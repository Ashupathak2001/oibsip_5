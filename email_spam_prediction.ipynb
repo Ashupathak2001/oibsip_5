{
  "cells": [
    {
      "cell_type": "markdown",
      "metadata": {
        "id": "view-in-github",
        "colab_type": "text"
      },
      "source": [
        "<a href=\"https://colab.research.google.com/github/Ashupathak2001/oibsip_5/blob/main/email_spam_prediction.ipynb\" target=\"_parent\"><img src=\"https://colab.research.google.com/assets/colab-badge.svg\" alt=\"Open In Colab\"/></a>"
      ]
    },
    {
      "cell_type": "code",
      "execution_count": null,
      "id": "1f4ba4ec",
      "metadata": {
        "execution": {
          "iopub.execute_input": "2023-10-07T09:42:55.819731Z",
          "iopub.status.busy": "2023-10-07T09:42:55.819132Z",
          "iopub.status.idle": "2023-10-07T09:42:56.288532Z",
          "shell.execute_reply": "2023-10-07T09:42:56.287242Z"
        },
        "papermill": {
          "duration": 0.48014,
          "end_time": "2023-10-07T09:42:56.291527",
          "exception": false,
          "start_time": "2023-10-07T09:42:55.811387",
          "status": "completed"
        },
        "tags": [],
        "id": "1f4ba4ec"
      },
      "outputs": [],
      "source": [
        "import numpy as np\n",
        "import pandas as pd\n",
        "import matplotlib.pyplot as plt\n",
        "%matplotlib inline"
      ]
    },
    {
      "cell_type": "code",
      "execution_count": null,
      "id": "0f60dda0",
      "metadata": {
        "execution": {
          "iopub.execute_input": "2023-10-07T09:42:56.305128Z",
          "iopub.status.busy": "2023-10-07T09:42:56.304469Z",
          "iopub.status.idle": "2023-10-07T09:42:56.373384Z",
          "shell.execute_reply": "2023-10-07T09:42:56.371853Z"
        },
        "papermill": {
          "duration": 0.078653,
          "end_time": "2023-10-07T09:42:56.375983",
          "exception": false,
          "start_time": "2023-10-07T09:42:56.297330",
          "status": "completed"
        },
        "tags": [],
        "id": "0f60dda0",
        "outputId": "037e0453-a357-41e5-e0b0-d8ad1820d06d"
      },
      "outputs": [
        {
          "data": {
            "text/html": [
              "<div>\n",
              "<style scoped>\n",
              "    .dataframe tbody tr th:only-of-type {\n",
              "        vertical-align: middle;\n",
              "    }\n",
              "\n",
              "    .dataframe tbody tr th {\n",
              "        vertical-align: top;\n",
              "    }\n",
              "\n",
              "    .dataframe thead th {\n",
              "        text-align: right;\n",
              "    }\n",
              "</style>\n",
              "<table border=\"1\" class=\"dataframe\">\n",
              "  <thead>\n",
              "    <tr style=\"text-align: right;\">\n",
              "      <th></th>\n",
              "      <th>Category</th>\n",
              "      <th>Message</th>\n",
              "    </tr>\n",
              "  </thead>\n",
              "  <tbody>\n",
              "    <tr>\n",
              "      <th>0</th>\n",
              "      <td>ham</td>\n",
              "      <td>Go until jurong point, crazy.. Available only ...</td>\n",
              "    </tr>\n",
              "    <tr>\n",
              "      <th>1</th>\n",
              "      <td>ham</td>\n",
              "      <td>Ok lar... Joking wif u oni...</td>\n",
              "    </tr>\n",
              "    <tr>\n",
              "      <th>2</th>\n",
              "      <td>spam</td>\n",
              "      <td>Free entry in 2 a wkly comp to win FA Cup fina...</td>\n",
              "    </tr>\n",
              "    <tr>\n",
              "      <th>3</th>\n",
              "      <td>ham</td>\n",
              "      <td>U dun say so early hor... U c already then say...</td>\n",
              "    </tr>\n",
              "    <tr>\n",
              "      <th>4</th>\n",
              "      <td>ham</td>\n",
              "      <td>Nah I don't think he goes to usf, he lives aro...</td>\n",
              "    </tr>\n",
              "    <tr>\n",
              "      <th>...</th>\n",
              "      <td>...</td>\n",
              "      <td>...</td>\n",
              "    </tr>\n",
              "    <tr>\n",
              "      <th>5567</th>\n",
              "      <td>spam</td>\n",
              "      <td>This is the 2nd time we have tried 2 contact u...</td>\n",
              "    </tr>\n",
              "    <tr>\n",
              "      <th>5568</th>\n",
              "      <td>ham</td>\n",
              "      <td>Will Ã¼ b going to esplanade fr home?</td>\n",
              "    </tr>\n",
              "    <tr>\n",
              "      <th>5569</th>\n",
              "      <td>ham</td>\n",
              "      <td>Pity, * was in mood for that. So...any other s...</td>\n",
              "    </tr>\n",
              "    <tr>\n",
              "      <th>5570</th>\n",
              "      <td>ham</td>\n",
              "      <td>The guy did some bitching but I acted like i'd...</td>\n",
              "    </tr>\n",
              "    <tr>\n",
              "      <th>5571</th>\n",
              "      <td>ham</td>\n",
              "      <td>Rofl. Its true to its name</td>\n",
              "    </tr>\n",
              "  </tbody>\n",
              "</table>\n",
              "<p>5572 rows × 2 columns</p>\n",
              "</div>"
            ],
            "text/plain": [
              "     Category                                            Message\n",
              "0         ham  Go until jurong point, crazy.. Available only ...\n",
              "1         ham                      Ok lar... Joking wif u oni...\n",
              "2        spam  Free entry in 2 a wkly comp to win FA Cup fina...\n",
              "3         ham  U dun say so early hor... U c already then say...\n",
              "4         ham  Nah I don't think he goes to usf, he lives aro...\n",
              "...       ...                                                ...\n",
              "5567     spam  This is the 2nd time we have tried 2 contact u...\n",
              "5568      ham              Will Ã¼ b going to esplanade fr home?\n",
              "5569      ham  Pity, * was in mood for that. So...any other s...\n",
              "5570      ham  The guy did some bitching but I acted like i'd...\n",
              "5571      ham                         Rofl. Its true to its name\n",
              "\n",
              "[5572 rows x 2 columns]"
            ]
          },
          "execution_count": 2,
          "metadata": {},
          "output_type": "execute_result"
        }
      ],
      "source": [
        "df=pd.read_csv('/kaggle/input/emailspam-dataset/spam.csv',encoding='latin1')\n",
        "df"
      ]
    },
    {
      "cell_type": "code",
      "execution_count": null,
      "id": "82e9a395",
      "metadata": {
        "execution": {
          "iopub.execute_input": "2023-10-07T09:42:56.389809Z",
          "iopub.status.busy": "2023-10-07T09:42:56.389369Z",
          "iopub.status.idle": "2023-10-07T09:42:56.396615Z",
          "shell.execute_reply": "2023-10-07T09:42:56.395496Z"
        },
        "papermill": {
          "duration": 0.016725,
          "end_time": "2023-10-07T09:42:56.398667",
          "exception": false,
          "start_time": "2023-10-07T09:42:56.381942",
          "status": "completed"
        },
        "tags": [],
        "id": "82e9a395",
        "outputId": "8ebdffaa-011e-458a-bb41-7d7579bbdbcd"
      },
      "outputs": [
        {
          "data": {
            "text/plain": [
              "Index(['Category', 'Message'], dtype='object')"
            ]
          },
          "execution_count": 3,
          "metadata": {},
          "output_type": "execute_result"
        }
      ],
      "source": [
        "df.columns"
      ]
    },
    {
      "cell_type": "code",
      "execution_count": null,
      "id": "0c7e4993",
      "metadata": {
        "execution": {
          "iopub.execute_input": "2023-10-07T09:42:56.412190Z",
          "iopub.status.busy": "2023-10-07T09:42:56.411440Z",
          "iopub.status.idle": "2023-10-07T09:42:56.442135Z",
          "shell.execute_reply": "2023-10-07T09:42:56.440970Z"
        },
        "papermill": {
          "duration": 0.040497,
          "end_time": "2023-10-07T09:42:56.444928",
          "exception": false,
          "start_time": "2023-10-07T09:42:56.404431",
          "status": "completed"
        },
        "tags": [],
        "id": "0c7e4993",
        "outputId": "12fcdf45-ef13-49f4-fe87-fdbbd3ada8f0"
      },
      "outputs": [
        {
          "name": "stdout",
          "output_type": "stream",
          "text": [
            "<class 'pandas.core.frame.DataFrame'>\n",
            "RangeIndex: 5572 entries, 0 to 5571\n",
            "Data columns (total 2 columns):\n",
            " #   Column    Non-Null Count  Dtype \n",
            "---  ------    --------------  ----- \n",
            " 0   Category  5572 non-null   object\n",
            " 1   Message   5572 non-null   object\n",
            "dtypes: object(2)\n",
            "memory usage: 87.2+ KB\n"
          ]
        }
      ],
      "source": [
        "df.info()"
      ]
    },
    {
      "cell_type": "code",
      "execution_count": null,
      "id": "bb2d922e",
      "metadata": {
        "execution": {
          "iopub.execute_input": "2023-10-07T09:42:56.458730Z",
          "iopub.status.busy": "2023-10-07T09:42:56.458305Z",
          "iopub.status.idle": "2023-10-07T09:42:56.467446Z",
          "shell.execute_reply": "2023-10-07T09:42:56.466264Z"
        },
        "papermill": {
          "duration": 0.019032,
          "end_time": "2023-10-07T09:42:56.469657",
          "exception": false,
          "start_time": "2023-10-07T09:42:56.450625",
          "status": "completed"
        },
        "tags": [],
        "id": "bb2d922e",
        "outputId": "26d9d16c-f4b2-412a-b0cd-5e5c2ae65978"
      },
      "outputs": [
        {
          "data": {
            "text/plain": [
              "Category    0\n",
              "Message     0\n",
              "dtype: int64"
            ]
          },
          "execution_count": 5,
          "metadata": {},
          "output_type": "execute_result"
        }
      ],
      "source": [
        "df.isna().sum()"
      ]
    },
    {
      "cell_type": "code",
      "execution_count": null,
      "id": "3b516e9e",
      "metadata": {
        "execution": {
          "iopub.execute_input": "2023-10-07T09:42:56.484256Z",
          "iopub.status.busy": "2023-10-07T09:42:56.483061Z",
          "iopub.status.idle": "2023-10-07T09:42:56.498815Z",
          "shell.execute_reply": "2023-10-07T09:42:56.497622Z"
        },
        "papermill": {
          "duration": 0.025637,
          "end_time": "2023-10-07T09:42:56.501115",
          "exception": false,
          "start_time": "2023-10-07T09:42:56.475478",
          "status": "completed"
        },
        "tags": [],
        "id": "3b516e9e",
        "outputId": "580d39bb-abb2-401b-bbe2-ebeafe6c2e52"
      },
      "outputs": [
        {
          "data": {
            "text/html": [
              "<div>\n",
              "<style scoped>\n",
              "    .dataframe tbody tr th:only-of-type {\n",
              "        vertical-align: middle;\n",
              "    }\n",
              "\n",
              "    .dataframe tbody tr th {\n",
              "        vertical-align: top;\n",
              "    }\n",
              "\n",
              "    .dataframe thead th {\n",
              "        text-align: right;\n",
              "    }\n",
              "</style>\n",
              "<table border=\"1\" class=\"dataframe\">\n",
              "  <thead>\n",
              "    <tr style=\"text-align: right;\">\n",
              "      <th></th>\n",
              "      <th>Category</th>\n",
              "      <th>Message</th>\n",
              "      <th>Spam</th>\n",
              "    </tr>\n",
              "  </thead>\n",
              "  <tbody>\n",
              "    <tr>\n",
              "      <th>0</th>\n",
              "      <td>ham</td>\n",
              "      <td>Go until jurong point, crazy.. Available only ...</td>\n",
              "      <td>0</td>\n",
              "    </tr>\n",
              "    <tr>\n",
              "      <th>1</th>\n",
              "      <td>ham</td>\n",
              "      <td>Ok lar... Joking wif u oni...</td>\n",
              "      <td>0</td>\n",
              "    </tr>\n",
              "    <tr>\n",
              "      <th>2</th>\n",
              "      <td>spam</td>\n",
              "      <td>Free entry in 2 a wkly comp to win FA Cup fina...</td>\n",
              "      <td>1</td>\n",
              "    </tr>\n",
              "    <tr>\n",
              "      <th>3</th>\n",
              "      <td>ham</td>\n",
              "      <td>U dun say so early hor... U c already then say...</td>\n",
              "      <td>0</td>\n",
              "    </tr>\n",
              "    <tr>\n",
              "      <th>4</th>\n",
              "      <td>ham</td>\n",
              "      <td>Nah I don't think he goes to usf, he lives aro...</td>\n",
              "      <td>0</td>\n",
              "    </tr>\n",
              "    <tr>\n",
              "      <th>5</th>\n",
              "      <td>spam</td>\n",
              "      <td>FreeMsg Hey there darling it's been 3 week's n...</td>\n",
              "      <td>1</td>\n",
              "    </tr>\n",
              "    <tr>\n",
              "      <th>6</th>\n",
              "      <td>ham</td>\n",
              "      <td>Even my brother is not like to speak with me. ...</td>\n",
              "      <td>0</td>\n",
              "    </tr>\n",
              "    <tr>\n",
              "      <th>7</th>\n",
              "      <td>ham</td>\n",
              "      <td>As per your request 'Melle Melle (Oru Minnamin...</td>\n",
              "      <td>0</td>\n",
              "    </tr>\n",
              "    <tr>\n",
              "      <th>8</th>\n",
              "      <td>spam</td>\n",
              "      <td>WINNER!! As a valued network customer you have...</td>\n",
              "      <td>1</td>\n",
              "    </tr>\n",
              "    <tr>\n",
              "      <th>9</th>\n",
              "      <td>spam</td>\n",
              "      <td>Had your mobile 11 months or more? U R entitle...</td>\n",
              "      <td>1</td>\n",
              "    </tr>\n",
              "  </tbody>\n",
              "</table>\n",
              "</div>"
            ],
            "text/plain": [
              "  Category                                            Message  Spam\n",
              "0      ham  Go until jurong point, crazy.. Available only ...     0\n",
              "1      ham                      Ok lar... Joking wif u oni...     0\n",
              "2     spam  Free entry in 2 a wkly comp to win FA Cup fina...     1\n",
              "3      ham  U dun say so early hor... U c already then say...     0\n",
              "4      ham  Nah I don't think he goes to usf, he lives aro...     0\n",
              "5     spam  FreeMsg Hey there darling it's been 3 week's n...     1\n",
              "6      ham  Even my brother is not like to speak with me. ...     0\n",
              "7      ham  As per your request 'Melle Melle (Oru Minnamin...     0\n",
              "8     spam  WINNER!! As a valued network customer you have...     1\n",
              "9     spam  Had your mobile 11 months or more? U R entitle...     1"
            ]
          },
          "execution_count": 6,
          "metadata": {},
          "output_type": "execute_result"
        }
      ],
      "source": [
        "df['Spam']=df['Category'].apply(lambda x:1 if x=='spam' else 0)\n",
        "df.head(10)"
      ]
    },
    {
      "cell_type": "code",
      "execution_count": null,
      "id": "cf208946",
      "metadata": {
        "execution": {
          "iopub.execute_input": "2023-10-07T09:42:56.515598Z",
          "iopub.status.busy": "2023-10-07T09:42:56.515123Z",
          "iopub.status.idle": "2023-10-07T09:42:57.810849Z",
          "shell.execute_reply": "2023-10-07T09:42:57.809407Z"
        },
        "papermill": {
          "duration": 1.306408,
          "end_time": "2023-10-07T09:42:57.813740",
          "exception": false,
          "start_time": "2023-10-07T09:42:56.507332",
          "status": "completed"
        },
        "tags": [],
        "id": "cf208946"
      },
      "outputs": [],
      "source": [
        "from sklearn.preprocessing import LabelEncoder\n",
        "encoder = LabelEncoder()\n",
        "df['Category'] = encoder.fit_transform(df['Category'])"
      ]
    },
    {
      "cell_type": "code",
      "execution_count": null,
      "id": "68751521",
      "metadata": {
        "execution": {
          "iopub.execute_input": "2023-10-07T09:42:57.830568Z",
          "iopub.status.busy": "2023-10-07T09:42:57.829504Z",
          "iopub.status.idle": "2023-10-07T09:42:57.839581Z",
          "shell.execute_reply": "2023-10-07T09:42:57.838388Z"
        },
        "papermill": {
          "duration": 0.020991,
          "end_time": "2023-10-07T09:42:57.841804",
          "exception": false,
          "start_time": "2023-10-07T09:42:57.820813",
          "status": "completed"
        },
        "tags": [],
        "id": "68751521",
        "outputId": "17ee00dc-ac96-4ef1-e459-3ac4bd1e05af"
      },
      "outputs": [
        {
          "data": {
            "text/plain": [
              "Category    0\n",
              "Message     0\n",
              "Spam        0\n",
              "dtype: int64"
            ]
          },
          "execution_count": 8,
          "metadata": {},
          "output_type": "execute_result"
        }
      ],
      "source": [
        "#checking missing values\n",
        "df.isnull().sum()"
      ]
    },
    {
      "cell_type": "code",
      "execution_count": null,
      "id": "65002bea",
      "metadata": {
        "execution": {
          "iopub.execute_input": "2023-10-07T09:42:57.855342Z",
          "iopub.status.busy": "2023-10-07T09:42:57.854937Z",
          "iopub.status.idle": "2023-10-07T09:42:57.870011Z",
          "shell.execute_reply": "2023-10-07T09:42:57.868484Z"
        },
        "papermill": {
          "duration": 0.024451,
          "end_time": "2023-10-07T09:42:57.872328",
          "exception": false,
          "start_time": "2023-10-07T09:42:57.847877",
          "status": "completed"
        },
        "tags": [],
        "id": "65002bea",
        "outputId": "facc357f-f0c6-4003-9c91-7783f71f5971"
      },
      "outputs": [
        {
          "data": {
            "text/plain": [
              "415"
            ]
          },
          "execution_count": 9,
          "metadata": {},
          "output_type": "execute_result"
        }
      ],
      "source": [
        "#check duplicate values\n",
        "df.duplicated().sum()"
      ]
    },
    {
      "cell_type": "code",
      "execution_count": null,
      "id": "511218e5",
      "metadata": {
        "execution": {
          "iopub.execute_input": "2023-10-07T09:42:57.886091Z",
          "iopub.status.busy": "2023-10-07T09:42:57.885669Z",
          "iopub.status.idle": "2023-10-07T09:42:57.898655Z",
          "shell.execute_reply": "2023-10-07T09:42:57.897815Z"
        },
        "papermill": {
          "duration": 0.02236,
          "end_time": "2023-10-07T09:42:57.900751",
          "exception": false,
          "start_time": "2023-10-07T09:42:57.878391",
          "status": "completed"
        },
        "tags": [],
        "id": "511218e5",
        "outputId": "9b3d11dc-805f-4250-d030-c8551ec5a15b"
      },
      "outputs": [
        {
          "data": {
            "text/plain": [
              "(5157, 3)"
            ]
          },
          "execution_count": 10,
          "metadata": {},
          "output_type": "execute_result"
        }
      ],
      "source": [
        "#remove Duplicate\n",
        "df = df.drop_duplicates(keep = 'first')\n",
        "df.shape"
      ]
    },
    {
      "cell_type": "code",
      "execution_count": null,
      "id": "08d412cd",
      "metadata": {
        "execution": {
          "iopub.execute_input": "2023-10-07T09:42:57.914944Z",
          "iopub.status.busy": "2023-10-07T09:42:57.914552Z",
          "iopub.status.idle": "2023-10-07T09:42:57.923393Z",
          "shell.execute_reply": "2023-10-07T09:42:57.922258Z"
        },
        "papermill": {
          "duration": 0.018663,
          "end_time": "2023-10-07T09:42:57.925461",
          "exception": false,
          "start_time": "2023-10-07T09:42:57.906798",
          "status": "completed"
        },
        "tags": [],
        "id": "08d412cd",
        "outputId": "632e5b91-43a1-4ad7-adbc-9c3fc007c26e"
      },
      "outputs": [
        {
          "name": "stdout",
          "output_type": "stream",
          "text": [
            "percentage of 0 : 87.5702928058949\n",
            "percentage of 1 : 12.429707194105099\n"
          ]
        }
      ],
      "source": [
        "values = df['Category'].value_counts()\n",
        "total = values.sum()\n",
        "\n",
        "percentage_0 = (values[0] /total) * 100\n",
        "percentage_1 = (values[1]/ total) *100\n",
        "\n",
        "print('percentage of 0 :' ,percentage_0)\n",
        "print('percentage of 1 :' ,percentage_1)"
      ]
    },
    {
      "cell_type": "code",
      "execution_count": null,
      "id": "e4988e8f",
      "metadata": {
        "execution": {
          "iopub.execute_input": "2023-10-07T09:42:57.939347Z",
          "iopub.status.busy": "2023-10-07T09:42:57.938958Z",
          "iopub.status.idle": "2023-10-07T09:42:58.986619Z",
          "shell.execute_reply": "2023-10-07T09:42:58.985496Z"
        },
        "papermill": {
          "duration": 1.05742,
          "end_time": "2023-10-07T09:42:58.989064",
          "exception": false,
          "start_time": "2023-10-07T09:42:57.931644",
          "status": "completed"
        },
        "tags": [],
        "id": "e4988e8f",
        "outputId": "3692014c-8508-4f80-c894-8be1dc3bbfb1"
      },
      "outputs": [
        {
          "name": "stdout",
          "output_type": "stream",
          "text": [
            "[nltk_data] Downloading package stopwords to /usr/share/nltk_data...\n",
            "[nltk_data]   Package stopwords is already up-to-date!\n",
            "[nltk_data] Downloading package punkt to /usr/share/nltk_data...\n",
            "[nltk_data]   Package punkt is already up-to-date!\n"
          ]
        },
        {
          "data": {
            "text/plain": [
              "True"
            ]
          },
          "execution_count": 12,
          "metadata": {},
          "output_type": "execute_result"
        }
      ],
      "source": [
        "# Importing NLTK for natural language processing\n",
        "import nltk\n",
        "from nltk.corpus import stopwords    # For stopwords\n",
        "\n",
        "\n",
        "# Downloading NLTK data\n",
        "nltk.download('stopwords')   # Downloading stopwords data\n",
        "nltk.download('punkt')       # Downloading tokenizer data"
      ]
    },
    {
      "cell_type": "code",
      "execution_count": null,
      "id": "fa3ba65e",
      "metadata": {
        "execution": {
          "iopub.execute_input": "2023-10-07T09:42:59.005427Z",
          "iopub.status.busy": "2023-10-07T09:42:59.004940Z",
          "iopub.status.idle": "2023-10-07T09:42:59.017054Z",
          "shell.execute_reply": "2023-10-07T09:42:59.015950Z"
        },
        "papermill": {
          "duration": 0.02375,
          "end_time": "2023-10-07T09:42:59.019778",
          "exception": false,
          "start_time": "2023-10-07T09:42:58.996028",
          "status": "completed"
        },
        "tags": [],
        "id": "fa3ba65e"
      },
      "outputs": [],
      "source": [
        "# Importing the Porter Stemmer for text stemming\n",
        "from nltk.stem.porter import PorterStemmer\n",
        "\n",
        "# Importing the string module for handling special characters\n",
        "import string\n",
        "\n",
        "# Creating an instance of the Porter Stemmer\n",
        "ps = PorterStemmer()\n",
        "\n",
        "# Lowercase transformation and text preprocessing function\n",
        "def transform_text(text):\n",
        "    # Transform the text to lowercase\n",
        "    text = text.lower()\n",
        "\n",
        "    # Tokenization using NLTK\n",
        "    text = nltk.word_tokenize(text)\n",
        "\n",
        "    # Removing special characters\n",
        "    y = []\n",
        "    for i in text:\n",
        "        if i.isalnum():\n",
        "            y.append(i)\n",
        "\n",
        "    # Removing stop words and punctuation\n",
        "    text = y[:]\n",
        "    y.clear()\n",
        "\n",
        "    # Loop through the tokens and remove stopwords and punctuation\n",
        "    for i in text:\n",
        "        if i not in stopwords.words('english') and i not in string.punctuation:\n",
        "            y.append(i)\n",
        "\n",
        "    # Stemming using Porter Stemmer\n",
        "    text = y[:]\n",
        "    y.clear()\n",
        "    for i in text:\n",
        "        y.append(ps.stem(i))\n",
        "\n",
        "    # Join the processed tokens back into a single string\n",
        "    return \" \".join(y)"
      ]
    },
    {
      "cell_type": "code",
      "execution_count": null,
      "id": "1f978453",
      "metadata": {
        "execution": {
          "iopub.execute_input": "2023-10-07T09:42:59.036121Z",
          "iopub.status.busy": "2023-10-07T09:42:59.035019Z",
          "iopub.status.idle": "2023-10-07T09:43:10.250520Z",
          "shell.execute_reply": "2023-10-07T09:43:10.249319Z"
        },
        "papermill": {
          "duration": 11.226642,
          "end_time": "2023-10-07T09:43:10.253476",
          "exception": false,
          "start_time": "2023-10-07T09:42:59.026834",
          "status": "completed"
        },
        "tags": [],
        "id": "1f978453",
        "outputId": "9d67d360-1c64-4c66-dcaf-a3ab059338f3"
      },
      "outputs": [
        {
          "name": "stderr",
          "output_type": "stream",
          "text": [
            "/tmp/ipykernel_20/678336115.py:1: SettingWithCopyWarning: \n",
            "A value is trying to be set on a copy of a slice from a DataFrame.\n",
            "Try using .loc[row_indexer,col_indexer] = value instead\n",
            "\n",
            "See the caveats in the documentation: https://pandas.pydata.org/pandas-docs/stable/user_guide/indexing.html#returning-a-view-versus-a-copy\n",
            "  df['transformed_text'] = df['Message'].apply(transform_text)\n"
          ]
        }
      ],
      "source": [
        "df['transformed_text'] = df['Message'].apply(transform_text)"
      ]
    },
    {
      "cell_type": "code",
      "execution_count": null,
      "id": "c6f223d4",
      "metadata": {
        "execution": {
          "iopub.execute_input": "2023-10-07T09:43:10.268891Z",
          "iopub.status.busy": "2023-10-07T09:43:10.268243Z",
          "iopub.status.idle": "2023-10-07T09:43:10.273913Z",
          "shell.execute_reply": "2023-10-07T09:43:10.272766Z"
        },
        "papermill": {
          "duration": 0.015639,
          "end_time": "2023-10-07T09:43:10.275993",
          "exception": false,
          "start_time": "2023-10-07T09:43:10.260354",
          "status": "completed"
        },
        "tags": [],
        "id": "c6f223d4"
      },
      "outputs": [],
      "source": [
        "from sklearn.feature_extraction.text import CountVectorizer, TfidfVectorizer\n",
        "cv = CountVectorizer()\n",
        "tfid = TfidfVectorizer(max_features = 3000)"
      ]
    },
    {
      "cell_type": "code",
      "execution_count": null,
      "id": "5e421d8a",
      "metadata": {
        "execution": {
          "iopub.execute_input": "2023-10-07T09:43:10.290164Z",
          "iopub.status.busy": "2023-10-07T09:43:10.289708Z",
          "iopub.status.idle": "2023-10-07T09:43:10.523411Z",
          "shell.execute_reply": "2023-10-07T09:43:10.521978Z"
        },
        "papermill": {
          "duration": 0.243797,
          "end_time": "2023-10-07T09:43:10.526042",
          "exception": false,
          "start_time": "2023-10-07T09:43:10.282245",
          "status": "completed"
        },
        "tags": [],
        "id": "5e421d8a"
      },
      "outputs": [],
      "source": [
        "X = tfid.fit_transform(df['transformed_text']).toarray()\n",
        "y = df['Category'].values"
      ]
    },
    {
      "cell_type": "code",
      "execution_count": null,
      "id": "25e61677",
      "metadata": {
        "execution": {
          "iopub.execute_input": "2023-10-07T09:43:10.540443Z",
          "iopub.status.busy": "2023-10-07T09:43:10.540051Z",
          "iopub.status.idle": "2023-10-07T09:43:10.629587Z",
          "shell.execute_reply": "2023-10-07T09:43:10.628289Z"
        },
        "papermill": {
          "duration": 0.099834,
          "end_time": "2023-10-07T09:43:10.632105",
          "exception": false,
          "start_time": "2023-10-07T09:43:10.532271",
          "status": "completed"
        },
        "tags": [],
        "id": "25e61677"
      },
      "outputs": [],
      "source": [
        "from sklearn.model_selection import train_test_split\n",
        "X_train, X_test , y_train, y_test = train_test_split(X,y,test_size = 0.20, random_state = 2)"
      ]
    },
    {
      "cell_type": "code",
      "execution_count": null,
      "id": "e6228c36",
      "metadata": {
        "execution": {
          "iopub.execute_input": "2023-10-07T09:43:10.647264Z",
          "iopub.status.busy": "2023-10-07T09:43:10.646913Z",
          "iopub.status.idle": "2023-10-07T09:43:11.151847Z",
          "shell.execute_reply": "2023-10-07T09:43:11.150333Z"
        },
        "papermill": {
          "duration": 0.516029,
          "end_time": "2023-10-07T09:43:11.154636",
          "exception": false,
          "start_time": "2023-10-07T09:43:10.638607",
          "status": "completed"
        },
        "tags": [],
        "id": "e6228c36"
      },
      "outputs": [],
      "source": [
        "from sklearn.linear_model import LogisticRegression\n",
        "from sklearn.svm import SVC\n",
        "from sklearn.naive_bayes import MultinomialNB\n",
        "from sklearn.tree import DecisionTreeClassifier\n",
        "from sklearn.neighbors import KNeighborsClassifier\n",
        "from sklearn.ensemble import RandomForestClassifier\n",
        "from sklearn.ensemble import AdaBoostClassifier\n",
        "from sklearn.ensemble import BaggingClassifier\n",
        "from sklearn.ensemble import ExtraTreesClassifier\n",
        "from sklearn.ensemble import GradientBoostingClassifier\n",
        "from xgboost import XGBClassifier"
      ]
    },
    {
      "cell_type": "code",
      "execution_count": null,
      "id": "9b3d73aa",
      "metadata": {
        "execution": {
          "iopub.execute_input": "2023-10-07T09:43:11.169507Z",
          "iopub.status.busy": "2023-10-07T09:43:11.168599Z",
          "iopub.status.idle": "2023-10-07T09:43:11.175975Z",
          "shell.execute_reply": "2023-10-07T09:43:11.174851Z"
        },
        "papermill": {
          "duration": 0.017432,
          "end_time": "2023-10-07T09:43:11.178385",
          "exception": false,
          "start_time": "2023-10-07T09:43:11.160953",
          "status": "completed"
        },
        "tags": [],
        "id": "9b3d73aa"
      },
      "outputs": [],
      "source": [
        "svc = SVC(kernel= \"sigmoid\", gamma  = 1.0)\n",
        "knc = KNeighborsClassifier()\n",
        "mnb = MultinomialNB()\n",
        "dtc = DecisionTreeClassifier(max_depth = 5)\n",
        "lrc = LogisticRegression(solver = 'liblinear', penalty = 'l1')\n",
        "rfc = RandomForestClassifier(n_estimators = 50, random_state = 2 )\n",
        "abc = AdaBoostClassifier(n_estimators = 50, random_state = 2)\n",
        "bc = BaggingClassifier(n_estimators = 50, random_state = 2)\n",
        "etc = ExtraTreesClassifier(n_estimators = 50, random_state = 2)\n",
        "gbdt = GradientBoostingClassifier(n_estimators = 50, random_state = 2)\n",
        "xgb  = XGBClassifier(n_estimators = 50, random_state = 2)\n"
      ]
    },
    {
      "cell_type": "code",
      "execution_count": null,
      "id": "a4454938",
      "metadata": {
        "execution": {
          "iopub.execute_input": "2023-10-07T09:43:11.193166Z",
          "iopub.status.busy": "2023-10-07T09:43:11.192744Z",
          "iopub.status.idle": "2023-10-07T09:43:11.197940Z",
          "shell.execute_reply": "2023-10-07T09:43:11.196827Z"
        },
        "papermill": {
          "duration": 0.014842,
          "end_time": "2023-10-07T09:43:11.200024",
          "exception": false,
          "start_time": "2023-10-07T09:43:11.185182",
          "status": "completed"
        },
        "tags": [],
        "id": "a4454938"
      },
      "outputs": [],
      "source": [
        "clfs = {\n",
        "    'SVC': svc,\n",
        "    'KNN': knc,\n",
        "    'NB': mnb,\n",
        "    'DT': dtc,\n",
        "    'LR': lrc,\n",
        "    'RF': rfc,\n",
        "    'Adaboost': abc,\n",
        "    'Bgc': bc,\n",
        "    'ETC': etc,\n",
        "    'GBDT': gbdt,\n",
        "    'xgb': xgb\n",
        "\n",
        "}"
      ]
    },
    {
      "cell_type": "code",
      "execution_count": null,
      "id": "64e80025",
      "metadata": {
        "execution": {
          "iopub.execute_input": "2023-10-07T09:43:11.214141Z",
          "iopub.status.busy": "2023-10-07T09:43:11.213814Z",
          "iopub.status.idle": "2023-10-07T09:43:11.219193Z",
          "shell.execute_reply": "2023-10-07T09:43:11.218178Z"
        },
        "papermill": {
          "duration": 0.015021,
          "end_time": "2023-10-07T09:43:11.221227",
          "exception": false,
          "start_time": "2023-10-07T09:43:11.206206",
          "status": "completed"
        },
        "tags": [],
        "id": "64e80025"
      },
      "outputs": [],
      "source": [
        "from sklearn.metrics import accuracy_score, precision_score\n",
        "def train_classifier(clfs, X_train, y_train, X_test, y_test):\n",
        "    clfs.fit(X_train,y_train)\n",
        "    y_pred = clfs.predict(X_test)\n",
        "    accuracy = accuracy_score(y_test, y_pred)\n",
        "    precision = precision_score(y_test, y_pred)\n",
        "    return accuracy , precision"
      ]
    },
    {
      "cell_type": "code",
      "execution_count": null,
      "id": "a52d5d4c",
      "metadata": {
        "execution": {
          "iopub.execute_input": "2023-10-07T09:43:11.236214Z",
          "iopub.status.busy": "2023-10-07T09:43:11.235854Z",
          "iopub.status.idle": "2023-10-07T09:46:25.508536Z",
          "shell.execute_reply": "2023-10-07T09:46:25.507621Z"
        },
        "papermill": {
          "duration": 194.283064,
          "end_time": "2023-10-07T09:46:25.511185",
          "exception": false,
          "start_time": "2023-10-07T09:43:11.228121",
          "status": "completed"
        },
        "tags": [],
        "id": "a52d5d4c",
        "outputId": "f55ecc18-0c26-46f0-bad1-2a6df2a22fbe"
      },
      "outputs": [
        {
          "name": "stdout",
          "output_type": "stream",
          "text": [
            "\n",
            "For:  SVC\n",
            "Accuracy:  0.9767441860465116\n",
            "Precision:  0.9813084112149533\n",
            "\n",
            "For:  KNN\n",
            "Accuracy:  0.9127906976744186\n",
            "Precision:  1.0\n",
            "\n",
            "For:  NB\n",
            "Accuracy:  0.9718992248062015\n",
            "Precision:  1.0\n",
            "\n",
            "For:  DT\n",
            "Accuracy:  0.936046511627907\n",
            "Precision:  0.8210526315789474\n",
            "\n",
            "For:  LR\n",
            "Accuracy:  0.9583333333333334\n",
            "Precision:  0.9375\n",
            "\n",
            "For:  RF\n",
            "Accuracy:  0.9709302325581395\n",
            "Precision:  1.0\n",
            "\n",
            "For:  Adaboost\n",
            "Accuracy:  0.9660852713178295\n",
            "Precision:  0.9339622641509434\n",
            "\n",
            "For:  Bgc\n",
            "Accuracy:  0.9622093023255814\n",
            "Precision:  0.9074074074074074\n",
            "\n",
            "For:  ETC\n",
            "Accuracy:  0.9757751937984496\n",
            "Precision:  0.9903846153846154\n",
            "\n",
            "For:  GBDT\n",
            "Accuracy:  0.9525193798449613\n",
            "Precision:  0.975609756097561\n",
            "\n",
            "For:  xgb\n",
            "Accuracy:  0.9718992248062015\n",
            "Precision:  0.9622641509433962\n"
          ]
        }
      ],
      "source": [
        "accuracy_scores = []\n",
        "precision_scores = []\n",
        "for name , clfs in clfs.items():\n",
        "    current_accuracy, current_precision = train_classifier(clfs, X_train, y_train, X_test, y_test)\n",
        "    print()\n",
        "    print(\"For: \", name)\n",
        "    print(\"Accuracy: \", current_accuracy)\n",
        "    print(\"Precision: \", current_precision)\n",
        "\n",
        "    accuracy_scores.append(current_accuracy)\n",
        "    precision_scores.append(current_precision)"
      ]
    },
    {
      "cell_type": "markdown",
      "id": "9bfaa95e",
      "metadata": {
        "papermill": {
          "duration": 0.006352,
          "end_time": "2023-10-07T09:46:25.525739",
          "exception": false,
          "start_time": "2023-10-07T09:46:25.519387",
          "status": "completed"
        },
        "tags": [],
        "id": "9bfaa95e"
      },
      "source": [
        "**Conclusion: In our evaluation of various classification algorithms, we observed the following key insights:**\n",
        "\n",
        "Support Vector Classifier (SVC) and Random Forest (RF) demonstrated the highest accuracy, both achieving approximately 97.58%.\n",
        "Naive Bayes (NB) achieved a perfect precision score, indicating zero false positives.\n",
        "Other models, including Gradient Boosting, Adaboost, Logistic Regression, and Bagging Classifier, displayed competitive performance with accuracy scores ranging from 94.68% to 96.03%.\n",
        "\n",
        "The selection of the optimal model should consider factors beyond just accuracy, such as computational efficiency and the specific requirements of the application. It is advisable to perform further model fine-tuning and validation before making a final choice. </span>"
      ]
    },
    {
      "cell_type": "code",
      "execution_count": null,
      "id": "cee932ca",
      "metadata": {
        "papermill": {
          "duration": 0.006402,
          "end_time": "2023-10-07T09:46:25.538785",
          "exception": false,
          "start_time": "2023-10-07T09:46:25.532383",
          "status": "completed"
        },
        "tags": [],
        "id": "cee932ca"
      },
      "outputs": [],
      "source": []
    }
  ],
  "metadata": {
    "kernelspec": {
      "display_name": "Python 3",
      "language": "python",
      "name": "python3"
    },
    "language_info": {
      "codemirror_mode": {
        "name": "ipython",
        "version": 3
      },
      "file_extension": ".py",
      "mimetype": "text/x-python",
      "name": "python",
      "nbconvert_exporter": "python",
      "pygments_lexer": "ipython3",
      "version": "3.10.12"
    },
    "papermill": {
      "default_parameters": {},
      "duration": 213.737962,
      "end_time": "2023-10-07T09:46:26.267370",
      "environment_variables": {},
      "exception": null,
      "input_path": "__notebook__.ipynb",
      "output_path": "__notebook__.ipynb",
      "parameters": {},
      "start_time": "2023-10-07T09:42:52.529408",
      "version": "2.4.0"
    },
    "colab": {
      "provenance": [],
      "include_colab_link": true
    }
  },
  "nbformat": 4,
  "nbformat_minor": 5
}