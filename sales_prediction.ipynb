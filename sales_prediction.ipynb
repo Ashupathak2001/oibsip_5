{
  "cells": [
    {
      "cell_type": "markdown",
      "metadata": {
        "id": "view-in-github",
        "colab_type": "text"
      },
      "source": [
        "<a href=\"https://colab.research.google.com/github/Ashupathak2001/oibsip_5/blob/main/sales_prediction.ipynb\" target=\"_parent\"><img src=\"https://colab.research.google.com/assets/colab-badge.svg\" alt=\"Open In Colab\"/></a>"
      ]
    },
    {
      "cell_type": "code",
      "execution_count": null,
      "id": "ff9cb960",
      "metadata": {
        "_cell_guid": "b1076dfc-b9ad-4769-8c92-a6c4dae69d19",
        "_uuid": "8f2839f25d086af736a60e9eeb907d3b93b6e0e5",
        "execution": {
          "iopub.execute_input": "2023-10-08T10:38:42.545879Z",
          "iopub.status.busy": "2023-10-08T10:38:42.545335Z",
          "iopub.status.idle": "2023-10-08T10:38:42.917457Z",
          "shell.execute_reply": "2023-10-08T10:38:42.916347Z"
        },
        "papermill": {
          "duration": 0.384208,
          "end_time": "2023-10-08T10:38:42.920309",
          "exception": false,
          "start_time": "2023-10-08T10:38:42.536101",
          "status": "completed"
        },
        "tags": [],
        "id": "ff9cb960",
        "outputId": "26df9ad5-35f5-40c7-e3df-8fdd882836e8"
      },
      "outputs": [
        {
          "name": "stdout",
          "output_type": "stream",
          "text": [
            "/kaggle/input/advertisingcsv/Advertising.csv\n"
          ]
        }
      ],
      "source": [
        "# This Python 3 environment comes with many helpful analytics libraries installed\n",
        "# It is defined by the kaggle/python Docker image: https://github.com/kaggle/docker-python\n",
        "# For example, here's several helpful packages to load\n",
        "\n",
        "import numpy as np # linear algebra\n",
        "import pandas as pd # data processing, CSV file I/O (e.g. pd.read_csv)\n",
        "\n",
        "# Input data files are available in the read-only \"../input/\" directory\n",
        "# For example, running this (by clicking run or pressing Shift+Enter) will list all files under the input directory\n",
        "\n",
        "import os\n",
        "for dirname, _, filenames in os.walk('/kaggle/input'):\n",
        "    for filename in filenames:\n",
        "        print(os.path.join(dirname, filename))\n",
        "\n",
        "# You can write up to 20GB to the current directory (/kaggle/working/) that gets preserved as output when you create a version using \"Save & Run All\"\n",
        "# You can also write temporary files to /kaggle/temp/, but they won't be saved outside of the current session"
      ]
    },
    {
      "cell_type": "code",
      "execution_count": null,
      "id": "4f700524",
      "metadata": {
        "execution": {
          "iopub.execute_input": "2023-10-08T10:38:42.937270Z",
          "iopub.status.busy": "2023-10-08T10:38:42.936741Z",
          "iopub.status.idle": "2023-10-08T10:38:42.978754Z",
          "shell.execute_reply": "2023-10-08T10:38:42.978042Z"
        },
        "papermill": {
          "duration": 0.052167,
          "end_time": "2023-10-08T10:38:42.980921",
          "exception": false,
          "start_time": "2023-10-08T10:38:42.928754",
          "status": "completed"
        },
        "tags": [],
        "id": "4f700524",
        "outputId": "39658067-a1b0-4b79-82e0-479023e15043"
      },
      "outputs": [
        {
          "data": {
            "text/html": [
              "<div>\n",
              "<style scoped>\n",
              "    .dataframe tbody tr th:only-of-type {\n",
              "        vertical-align: middle;\n",
              "    }\n",
              "\n",
              "    .dataframe tbody tr th {\n",
              "        vertical-align: top;\n",
              "    }\n",
              "\n",
              "    .dataframe thead th {\n",
              "        text-align: right;\n",
              "    }\n",
              "</style>\n",
              "<table border=\"1\" class=\"dataframe\">\n",
              "  <thead>\n",
              "    <tr style=\"text-align: right;\">\n",
              "      <th></th>\n",
              "      <th>Unnamed: 0</th>\n",
              "      <th>TV</th>\n",
              "      <th>Radio</th>\n",
              "      <th>Newspaper</th>\n",
              "      <th>Sales</th>\n",
              "    </tr>\n",
              "  </thead>\n",
              "  <tbody>\n",
              "    <tr>\n",
              "      <th>0</th>\n",
              "      <td>1</td>\n",
              "      <td>230.1</td>\n",
              "      <td>37.8</td>\n",
              "      <td>69.2</td>\n",
              "      <td>22.1</td>\n",
              "    </tr>\n",
              "    <tr>\n",
              "      <th>1</th>\n",
              "      <td>2</td>\n",
              "      <td>44.5</td>\n",
              "      <td>39.3</td>\n",
              "      <td>45.1</td>\n",
              "      <td>10.4</td>\n",
              "    </tr>\n",
              "    <tr>\n",
              "      <th>2</th>\n",
              "      <td>3</td>\n",
              "      <td>17.2</td>\n",
              "      <td>45.9</td>\n",
              "      <td>69.3</td>\n",
              "      <td>9.3</td>\n",
              "    </tr>\n",
              "    <tr>\n",
              "      <th>3</th>\n",
              "      <td>4</td>\n",
              "      <td>151.5</td>\n",
              "      <td>41.3</td>\n",
              "      <td>58.5</td>\n",
              "      <td>18.5</td>\n",
              "    </tr>\n",
              "    <tr>\n",
              "      <th>4</th>\n",
              "      <td>5</td>\n",
              "      <td>180.8</td>\n",
              "      <td>10.8</td>\n",
              "      <td>58.4</td>\n",
              "      <td>12.9</td>\n",
              "    </tr>\n",
              "    <tr>\n",
              "      <th>...</th>\n",
              "      <td>...</td>\n",
              "      <td>...</td>\n",
              "      <td>...</td>\n",
              "      <td>...</td>\n",
              "      <td>...</td>\n",
              "    </tr>\n",
              "    <tr>\n",
              "      <th>195</th>\n",
              "      <td>196</td>\n",
              "      <td>38.2</td>\n",
              "      <td>3.7</td>\n",
              "      <td>13.8</td>\n",
              "      <td>7.6</td>\n",
              "    </tr>\n",
              "    <tr>\n",
              "      <th>196</th>\n",
              "      <td>197</td>\n",
              "      <td>94.2</td>\n",
              "      <td>4.9</td>\n",
              "      <td>8.1</td>\n",
              "      <td>9.7</td>\n",
              "    </tr>\n",
              "    <tr>\n",
              "      <th>197</th>\n",
              "      <td>198</td>\n",
              "      <td>177.0</td>\n",
              "      <td>9.3</td>\n",
              "      <td>6.4</td>\n",
              "      <td>12.8</td>\n",
              "    </tr>\n",
              "    <tr>\n",
              "      <th>198</th>\n",
              "      <td>199</td>\n",
              "      <td>283.6</td>\n",
              "      <td>42.0</td>\n",
              "      <td>66.2</td>\n",
              "      <td>25.5</td>\n",
              "    </tr>\n",
              "    <tr>\n",
              "      <th>199</th>\n",
              "      <td>200</td>\n",
              "      <td>232.1</td>\n",
              "      <td>8.6</td>\n",
              "      <td>8.7</td>\n",
              "      <td>13.4</td>\n",
              "    </tr>\n",
              "  </tbody>\n",
              "</table>\n",
              "<p>200 rows × 5 columns</p>\n",
              "</div>"
            ],
            "text/plain": [
              "     Unnamed: 0     TV  Radio  Newspaper  Sales\n",
              "0             1  230.1   37.8       69.2   22.1\n",
              "1             2   44.5   39.3       45.1   10.4\n",
              "2             3   17.2   45.9       69.3    9.3\n",
              "3             4  151.5   41.3       58.5   18.5\n",
              "4             5  180.8   10.8       58.4   12.9\n",
              "..          ...    ...    ...        ...    ...\n",
              "195         196   38.2    3.7       13.8    7.6\n",
              "196         197   94.2    4.9        8.1    9.7\n",
              "197         198  177.0    9.3        6.4   12.8\n",
              "198         199  283.6   42.0       66.2   25.5\n",
              "199         200  232.1    8.6        8.7   13.4\n",
              "\n",
              "[200 rows x 5 columns]"
            ]
          },
          "execution_count": 2,
          "metadata": {},
          "output_type": "execute_result"
        }
      ],
      "source": [
        "df=pd.read_csv(\"/kaggle/input/advertisingcsv/Advertising.csv\")\n",
        "df"
      ]
    },
    {
      "cell_type": "markdown",
      "id": "5ff60c5f",
      "metadata": {
        "papermill": {
          "duration": 0.00708,
          "end_time": "2023-10-08T10:38:42.995529",
          "exception": false,
          "start_time": "2023-10-08T10:38:42.988449",
          "status": "completed"
        },
        "tags": [],
        "id": "5ff60c5f"
      },
      "source": [
        "**Data Analysis**"
      ]
    },
    {
      "cell_type": "code",
      "execution_count": null,
      "id": "5850d1e4",
      "metadata": {
        "execution": {
          "iopub.execute_input": "2023-10-08T10:38:43.011367Z",
          "iopub.status.busy": "2023-10-08T10:38:43.011044Z",
          "iopub.status.idle": "2023-10-08T10:38:43.025454Z",
          "shell.execute_reply": "2023-10-08T10:38:43.024808Z"
        },
        "papermill": {
          "duration": 0.024299,
          "end_time": "2023-10-08T10:38:43.027100",
          "exception": false,
          "start_time": "2023-10-08T10:38:43.002801",
          "status": "completed"
        },
        "tags": [],
        "id": "5850d1e4",
        "outputId": "2102b6e7-8d54-4aa8-916c-6bc040e47cd8"
      },
      "outputs": [
        {
          "data": {
            "text/plain": [
              "(200, 4)"
            ]
          },
          "execution_count": 3,
          "metadata": {},
          "output_type": "execute_result"
        }
      ],
      "source": [
        "# Remove the unwanted column : (Unnamed: 0)\n",
        "df.drop('Unnamed: 0',axis=1,inplace=True)\n",
        "df.shape"
      ]
    },
    {
      "cell_type": "code",
      "execution_count": null,
      "id": "7e006f32",
      "metadata": {
        "execution": {
          "iopub.execute_input": "2023-10-08T10:38:43.043529Z",
          "iopub.status.busy": "2023-10-08T10:38:43.042943Z",
          "iopub.status.idle": "2023-10-08T10:38:43.064813Z",
          "shell.execute_reply": "2023-10-08T10:38:43.063783Z"
        },
        "papermill": {
          "duration": 0.032261,
          "end_time": "2023-10-08T10:38:43.066744",
          "exception": false,
          "start_time": "2023-10-08T10:38:43.034483",
          "status": "completed"
        },
        "tags": [],
        "id": "7e006f32",
        "outputId": "ef29edb1-189a-4c96-ce8e-8b0d4130015a"
      },
      "outputs": [
        {
          "data": {
            "text/html": [
              "<div>\n",
              "<style scoped>\n",
              "    .dataframe tbody tr th:only-of-type {\n",
              "        vertical-align: middle;\n",
              "    }\n",
              "\n",
              "    .dataframe tbody tr th {\n",
              "        vertical-align: top;\n",
              "    }\n",
              "\n",
              "    .dataframe thead th {\n",
              "        text-align: right;\n",
              "    }\n",
              "</style>\n",
              "<table border=\"1\" class=\"dataframe\">\n",
              "  <thead>\n",
              "    <tr style=\"text-align: right;\">\n",
              "      <th></th>\n",
              "      <th>TV</th>\n",
              "      <th>Radio</th>\n",
              "      <th>Newspaper</th>\n",
              "      <th>Sales</th>\n",
              "    </tr>\n",
              "  </thead>\n",
              "  <tbody>\n",
              "    <tr>\n",
              "      <th>count</th>\n",
              "      <td>200.000000</td>\n",
              "      <td>200.000000</td>\n",
              "      <td>200.000000</td>\n",
              "      <td>200.000000</td>\n",
              "    </tr>\n",
              "    <tr>\n",
              "      <th>mean</th>\n",
              "      <td>147.042500</td>\n",
              "      <td>23.264000</td>\n",
              "      <td>30.554000</td>\n",
              "      <td>14.022500</td>\n",
              "    </tr>\n",
              "    <tr>\n",
              "      <th>std</th>\n",
              "      <td>85.854236</td>\n",
              "      <td>14.846809</td>\n",
              "      <td>21.778621</td>\n",
              "      <td>5.217457</td>\n",
              "    </tr>\n",
              "    <tr>\n",
              "      <th>min</th>\n",
              "      <td>0.700000</td>\n",
              "      <td>0.000000</td>\n",
              "      <td>0.300000</td>\n",
              "      <td>1.600000</td>\n",
              "    </tr>\n",
              "    <tr>\n",
              "      <th>25%</th>\n",
              "      <td>74.375000</td>\n",
              "      <td>9.975000</td>\n",
              "      <td>12.750000</td>\n",
              "      <td>10.375000</td>\n",
              "    </tr>\n",
              "    <tr>\n",
              "      <th>50%</th>\n",
              "      <td>149.750000</td>\n",
              "      <td>22.900000</td>\n",
              "      <td>25.750000</td>\n",
              "      <td>12.900000</td>\n",
              "    </tr>\n",
              "    <tr>\n",
              "      <th>75%</th>\n",
              "      <td>218.825000</td>\n",
              "      <td>36.525000</td>\n",
              "      <td>45.100000</td>\n",
              "      <td>17.400000</td>\n",
              "    </tr>\n",
              "    <tr>\n",
              "      <th>max</th>\n",
              "      <td>296.400000</td>\n",
              "      <td>49.600000</td>\n",
              "      <td>114.000000</td>\n",
              "      <td>27.000000</td>\n",
              "    </tr>\n",
              "  </tbody>\n",
              "</table>\n",
              "</div>"
            ],
            "text/plain": [
              "               TV       Radio   Newspaper       Sales\n",
              "count  200.000000  200.000000  200.000000  200.000000\n",
              "mean   147.042500   23.264000   30.554000   14.022500\n",
              "std     85.854236   14.846809   21.778621    5.217457\n",
              "min      0.700000    0.000000    0.300000    1.600000\n",
              "25%     74.375000    9.975000   12.750000   10.375000\n",
              "50%    149.750000   22.900000   25.750000   12.900000\n",
              "75%    218.825000   36.525000   45.100000   17.400000\n",
              "max    296.400000   49.600000  114.000000   27.000000"
            ]
          },
          "execution_count": 4,
          "metadata": {},
          "output_type": "execute_result"
        }
      ],
      "source": [
        "df.describe()"
      ]
    },
    {
      "cell_type": "code",
      "execution_count": null,
      "id": "4d2e9c1a",
      "metadata": {
        "execution": {
          "iopub.execute_input": "2023-10-08T10:38:43.083750Z",
          "iopub.status.busy": "2023-10-08T10:38:43.083036Z",
          "iopub.status.idle": "2023-10-08T10:38:43.101924Z",
          "shell.execute_reply": "2023-10-08T10:38:43.101171Z"
        },
        "papermill": {
          "duration": 0.029624,
          "end_time": "2023-10-08T10:38:43.103945",
          "exception": false,
          "start_time": "2023-10-08T10:38:43.074321",
          "status": "completed"
        },
        "tags": [],
        "id": "4d2e9c1a",
        "outputId": "ff4646f4-7b6b-4b74-eb5d-fd70a49289bb"
      },
      "outputs": [
        {
          "name": "stdout",
          "output_type": "stream",
          "text": [
            "<class 'pandas.core.frame.DataFrame'>\n",
            "RangeIndex: 200 entries, 0 to 199\n",
            "Data columns (total 4 columns):\n",
            " #   Column     Non-Null Count  Dtype  \n",
            "---  ------     --------------  -----  \n",
            " 0   TV         200 non-null    float64\n",
            " 1   Radio      200 non-null    float64\n",
            " 2   Newspaper  200 non-null    float64\n",
            " 3   Sales      200 non-null    float64\n",
            "dtypes: float64(4)\n",
            "memory usage: 6.4 KB\n"
          ]
        }
      ],
      "source": [
        "df.info()"
      ]
    },
    {
      "cell_type": "code",
      "execution_count": null,
      "id": "63892a42",
      "metadata": {
        "execution": {
          "iopub.execute_input": "2023-10-08T10:38:43.122016Z",
          "iopub.status.busy": "2023-10-08T10:38:43.121491Z",
          "iopub.status.idle": "2023-10-08T10:38:43.127451Z",
          "shell.execute_reply": "2023-10-08T10:38:43.126648Z"
        },
        "papermill": {
          "duration": 0.01723,
          "end_time": "2023-10-08T10:38:43.129159",
          "exception": false,
          "start_time": "2023-10-08T10:38:43.111929",
          "status": "completed"
        },
        "tags": [],
        "id": "63892a42",
        "outputId": "607b1f84-2f2f-41ce-f0e5-067fcc855153"
      },
      "outputs": [
        {
          "data": {
            "text/plain": [
              "TV           0\n",
              "Radio        0\n",
              "Newspaper    0\n",
              "Sales        0\n",
              "dtype: int64"
            ]
          },
          "execution_count": 6,
          "metadata": {},
          "output_type": "execute_result"
        }
      ],
      "source": [
        "df.isnull().sum()"
      ]
    },
    {
      "cell_type": "code",
      "execution_count": null,
      "id": "21f7cc41",
      "metadata": {
        "execution": {
          "iopub.execute_input": "2023-10-08T10:38:43.146828Z",
          "iopub.status.busy": "2023-10-08T10:38:43.146313Z",
          "iopub.status.idle": "2023-10-08T10:38:43.153229Z",
          "shell.execute_reply": "2023-10-08T10:38:43.152628Z"
        },
        "papermill": {
          "duration": 0.018085,
          "end_time": "2023-10-08T10:38:43.155112",
          "exception": false,
          "start_time": "2023-10-08T10:38:43.137027",
          "status": "completed"
        },
        "tags": [],
        "id": "21f7cc41"
      },
      "outputs": [],
      "source": [
        "df.drop_duplicates(inplace=True)"
      ]
    },
    {
      "cell_type": "code",
      "execution_count": null,
      "id": "dd59b9f9",
      "metadata": {
        "execution": {
          "iopub.execute_input": "2023-10-08T10:38:43.172488Z",
          "iopub.status.busy": "2023-10-08T10:38:43.171964Z",
          "iopub.status.idle": "2023-10-08T10:38:44.940154Z",
          "shell.execute_reply": "2023-10-08T10:38:44.939010Z"
        },
        "papermill": {
          "duration": 1.779329,
          "end_time": "2023-10-08T10:38:44.942265",
          "exception": false,
          "start_time": "2023-10-08T10:38:43.162936",
          "status": "completed"
        },
        "tags": [],
        "id": "dd59b9f9",
        "outputId": "1e94b8eb-e2a2-4d4a-c219-30e2078a4ee1"
      },
      "outputs": [
        {
          "data": {
            "image/png": "[encoded data removed]",
            "text/plain": [
              "<Figure size 800x600 with 1 Axes>"
            ]
          },
          "metadata": {},
          "output_type": "display_data"
        }
      ],
      "source": [
        "# Explore and visualize relationships\n",
        "import seaborn as sns\n",
        "import matplotlib.pyplot as plt\n",
        "# Scatter plot between 'TV' advertising spending and 'Sales'\n",
        "plt.figure(figsize=(8,6))\n",
        "sns.scatterplot(data=df, x='TV',y='Sales')\n",
        "plt.xlabel('TV advertising spending')\n",
        "plt.ylabel('Sales')\n",
        "plt.title('Relationship between TV advertising and sales')\n",
        "plt.show()"
      ]
    },
    {
      "cell_type": "code",
      "execution_count": null,
      "id": "dc7e5e86",
      "metadata": {
        "execution": {
          "iopub.execute_input": "2023-10-08T10:38:44.960438Z",
          "iopub.status.busy": "2023-10-08T10:38:44.960094Z",
          "iopub.status.idle": "2023-10-08T10:38:45.246162Z",
          "shell.execute_reply": "2023-10-08T10:38:45.245037Z"
        },
        "papermill": {
          "duration": 0.297454,
          "end_time": "2023-10-08T10:38:45.248331",
          "exception": false,
          "start_time": "2023-10-08T10:38:44.950877",
          "status": "completed"
        },
        "tags": [],
        "id": "dc7e5e86",
        "outputId": "22766305-52c9-4193-a725-8c0db93f990b"
      },
      "outputs": [
        {
          "data": {
            "image/png": "[encoded data removed]",
            "text/plain": [
              "<Figure size 640x480 with 1 Axes>"
            ]
          },
          "metadata": {},
          "output_type": "display_data"
        }
      ],
      "source": [
        "plt.hist(df['TV'],bins=20)\n",
        "plt.xlabel('TV advertising spending')\n",
        "plt.ylabel('Frequency')\n",
        "plt.title('Histogram of TV advertising spending')\n",
        "plt.show()"
      ]
    },
    {
      "cell_type": "code",
      "execution_count": null,
      "id": "62138e71",
      "metadata": {
        "execution": {
          "iopub.execute_input": "2023-10-08T10:38:45.267598Z",
          "iopub.status.busy": "2023-10-08T10:38:45.267177Z",
          "iopub.status.idle": "2023-10-08T10:38:49.265141Z",
          "shell.execute_reply": "2023-10-08T10:38:49.264048Z"
        },
        "papermill": {
          "duration": 4.011603,
          "end_time": "2023-10-08T10:38:49.268760",
          "exception": false,
          "start_time": "2023-10-08T10:38:45.257157",
          "status": "completed"
        },
        "tags": [],
        "id": "62138e71",
        "outputId": "a467d860-f11a-44d5-cf53-be5df4bef919"
      },
      "outputs": [
        {
          "name": "stderr",
          "output_type": "stream",
          "text": [
            "/opt/conda/lib/python3.10/site-packages/seaborn/axisgrid.py:118: UserWarning: The figure layout has changed to tight\n",
            "  self._figure.tight_layout(*args, **kwargs)\n"
          ]
        },
        {
          "data": {
            "image/png": "[encoded data removed]",
            "text/plain": [
              "<Figure size 1000x1000 with 20 Axes>"
            ]
          },
          "metadata": {},
          "output_type": "display_data"
        }
      ],
      "source": [
        "sns.pairplot(df)\n",
        "plt.show()"
      ]
    },
    {
      "cell_type": "code",
      "execution_count": null,
      "id": "1648be83",
      "metadata": {
        "execution": {
          "iopub.execute_input": "2023-10-08T10:38:49.294441Z",
          "iopub.status.busy": "2023-10-08T10:38:49.293695Z",
          "iopub.status.idle": "2023-10-08T10:38:49.589058Z",
          "shell.execute_reply": "2023-10-08T10:38:49.588001Z"
        },
        "papermill": {
          "duration": 0.310512,
          "end_time": "2023-10-08T10:38:49.591304",
          "exception": false,
          "start_time": "2023-10-08T10:38:49.280792",
          "status": "completed"
        },
        "tags": [],
        "id": "1648be83",
        "outputId": "f6a60492-4986-4fe8-89a6-eb8c032e274d"
      },
      "outputs": [
        {
          "data": {
            "image/png": "[encoded data removed]",
            "text/plain": [
              "<Figure size 640x480 with 2 Axes>"
            ]
          },
          "metadata": {},
          "output_type": "display_data"
        }
      ],
      "source": [
        "# calculate the correaltion matrix\n",
        "correlation_matrix=df.corr()\n",
        "\n",
        "# create heatmap\n",
        "sns.heatmap(correlation_matrix,annot=True,cmap='summer',fmt='.2f')\n",
        "plt.title('Correlatiom Heatmap')\n",
        "plt.show()"
      ]
    },
    {
      "cell_type": "markdown",
      "id": "cf13a984",
      "metadata": {
        "papermill": {
          "duration": 0.011625,
          "end_time": "2023-10-08T10:38:49.615353",
          "exception": false,
          "start_time": "2023-10-08T10:38:49.603728",
          "status": "completed"
        },
        "tags": [],
        "id": "cf13a984"
      },
      "source": [
        "**Feature Engineering**"
      ]
    },
    {
      "cell_type": "code",
      "execution_count": null,
      "id": "ea3cf5af",
      "metadata": {
        "execution": {
          "iopub.execute_input": "2023-10-08T10:38:49.640962Z",
          "iopub.status.busy": "2023-10-08T10:38:49.640621Z",
          "iopub.status.idle": "2023-10-08T10:38:49.652763Z",
          "shell.execute_reply": "2023-10-08T10:38:49.651510Z"
        },
        "papermill": {
          "duration": 0.027313,
          "end_time": "2023-10-08T10:38:49.654660",
          "exception": false,
          "start_time": "2023-10-08T10:38:49.627347",
          "status": "completed"
        },
        "tags": [],
        "id": "ea3cf5af",
        "outputId": "dcddd9db-eaf5-44b1-b948-794f9c0486f6"
      },
      "outputs": [
        {
          "name": "stdout",
          "output_type": "stream",
          "text": [
            "<class 'pandas.core.frame.DataFrame'>\n",
            "RangeIndex: 200 entries, 0 to 199\n",
            "Data columns (total 5 columns):\n",
            " #   Column                      Non-Null Count  Dtype  \n",
            "---  ------                      --------------  -----  \n",
            " 0   TV                          200 non-null    float64\n",
            " 1   Radio                       200 non-null    float64\n",
            " 2   Newspaper                   200 non-null    float64\n",
            " 3   Sales                       200 non-null    float64\n",
            " 4   Total_Advertising_Spending  200 non-null    float64\n",
            "dtypes: float64(5)\n",
            "memory usage: 7.9 KB\n"
          ]
        }
      ],
      "source": [
        "# we can create new feature if needed\n",
        "# eg. creating feature 'Total_Advertising_Spending'\n",
        "df['Total_Advertising_Spending']=df['TV']+df['Radio']+df['Newspaper']\n",
        "df.info()"
      ]
    },
    {
      "cell_type": "markdown",
      "id": "8749a0e7",
      "metadata": {
        "papermill": {
          "duration": 0.011537,
          "end_time": "2023-10-08T10:38:49.678172",
          "exception": false,
          "start_time": "2023-10-08T10:38:49.666635",
          "status": "completed"
        },
        "tags": [],
        "id": "8749a0e7"
      },
      "source": [
        "**Model Training**"
      ]
    },
    {
      "cell_type": "code",
      "execution_count": null,
      "id": "5210c1c6",
      "metadata": {
        "execution": {
          "iopub.execute_input": "2023-10-08T10:38:49.703500Z",
          "iopub.status.busy": "2023-10-08T10:38:49.703158Z",
          "iopub.status.idle": "2023-10-08T10:38:49.958893Z",
          "shell.execute_reply": "2023-10-08T10:38:49.957932Z"
        },
        "papermill": {
          "duration": 0.271043,
          "end_time": "2023-10-08T10:38:49.961196",
          "exception": false,
          "start_time": "2023-10-08T10:38:49.690153",
          "status": "completed"
        },
        "tags": [],
        "id": "5210c1c6"
      },
      "outputs": [],
      "source": [
        "from sklearn.model_selection import train_test_split"
      ]
    },
    {
      "cell_type": "code",
      "execution_count": null,
      "id": "7c120e21",
      "metadata": {
        "execution": {
          "iopub.execute_input": "2023-10-08T10:38:49.989999Z",
          "iopub.status.busy": "2023-10-08T10:38:49.989605Z",
          "iopub.status.idle": "2023-10-08T10:38:49.997181Z",
          "shell.execute_reply": "2023-10-08T10:38:49.996126Z"
        },
        "papermill": {
          "duration": 0.024903,
          "end_time": "2023-10-08T10:38:49.999100",
          "exception": false,
          "start_time": "2023-10-08T10:38:49.974197",
          "status": "completed"
        },
        "tags": [],
        "id": "7c120e21"
      },
      "outputs": [],
      "source": [
        "# Split the data into training and testing sets\n",
        "X=df.drop('Sales',axis=1)\n",
        "y=df['Sales']\n",
        "X_train,X_test,y_train,y_test=train_test_split(X,y,test_size=0.25,random_state=42)"
      ]
    },
    {
      "cell_type": "markdown",
      "id": "3bcb39a8",
      "metadata": {
        "papermill": {
          "duration": 0.012275,
          "end_time": "2023-10-08T10:38:50.023690",
          "exception": false,
          "start_time": "2023-10-08T10:38:50.011415",
          "status": "completed"
        },
        "tags": [],
        "id": "3bcb39a8"
      },
      "source": [
        "**Linear Regression**"
      ]
    },
    {
      "cell_type": "code",
      "execution_count": null,
      "id": "f2b80cbd",
      "metadata": {
        "execution": {
          "iopub.execute_input": "2023-10-08T10:38:50.050224Z",
          "iopub.status.busy": "2023-10-08T10:38:50.049877Z",
          "iopub.status.idle": "2023-10-08T10:38:50.171006Z",
          "shell.execute_reply": "2023-10-08T10:38:50.170075Z"
        },
        "papermill": {
          "duration": 0.137157,
          "end_time": "2023-10-08T10:38:50.173165",
          "exception": false,
          "start_time": "2023-10-08T10:38:50.036008",
          "status": "completed"
        },
        "tags": [],
        "id": "f2b80cbd"
      },
      "outputs": [],
      "source": [
        "from sklearn.linear_model import LinearRegression\n",
        "\n",
        "model_linear = LinearRegression()\n",
        "model_linear.fit(X_train, y_train)\n",
        "\n",
        "# Make predictions on the test set\n",
        "y_pred = model_linear.predict(X_test)"
      ]
    },
    {
      "cell_type": "code",
      "execution_count": null,
      "id": "1ef60ed4",
      "metadata": {
        "execution": {
          "iopub.execute_input": "2023-10-08T10:38:50.200052Z",
          "iopub.status.busy": "2023-10-08T10:38:50.199044Z",
          "iopub.status.idle": "2023-10-08T10:38:50.206147Z",
          "shell.execute_reply": "2023-10-08T10:38:50.205241Z"
        },
        "papermill": {
          "duration": 0.022428,
          "end_time": "2023-10-08T10:38:50.207950",
          "exception": false,
          "start_time": "2023-10-08T10:38:50.185522",
          "status": "completed"
        },
        "tags": [],
        "id": "1ef60ed4",
        "outputId": "0e1920b1-959f-4712-9342-9af34d4f8c79"
      },
      "outputs": [
        {
          "name": "stdout",
          "output_type": "stream",
          "text": [
            "Mean Squared Error: 2.880023730094191\n",
            "R-squared: 0.8935163320163658\n"
          ]
        }
      ],
      "source": [
        "# Evaluate the model (you can use different evaluation metrics)\n",
        "from sklearn.metrics import mean_squared_error, r2_score\n",
        "mse = mean_squared_error(y_test, y_pred)\n",
        "r2 = r2_score(y_test, y_pred)\n",
        "print(f'Mean Squared Error: {mse}')\n",
        "print(f'R-squared: {r2}')"
      ]
    },
    {
      "cell_type": "markdown",
      "id": "ac7e94d4",
      "metadata": {
        "papermill": {
          "duration": 0.012315,
          "end_time": "2023-10-08T10:38:50.290160",
          "exception": false,
          "start_time": "2023-10-08T10:38:50.277845",
          "status": "completed"
        },
        "tags": [],
        "id": "ac7e94d4"
      },
      "source": [
        "**DecisionTreeRegressor**"
      ]
    },
    {
      "cell_type": "code",
      "execution_count": null,
      "id": "99b7f1b2",
      "metadata": {
        "execution": {
          "iopub.execute_input": "2023-10-08T10:38:50.317568Z",
          "iopub.status.busy": "2023-10-08T10:38:50.316900Z",
          "iopub.status.idle": "2023-10-08T10:38:50.488656Z",
          "shell.execute_reply": "2023-10-08T10:38:50.487366Z"
        },
        "papermill": {
          "duration": 0.187927,
          "end_time": "2023-10-08T10:38:50.490942",
          "exception": false,
          "start_time": "2023-10-08T10:38:50.303015",
          "status": "completed"
        },
        "tags": [],
        "id": "99b7f1b2"
      },
      "outputs": [],
      "source": [
        "from sklearn.tree import DecisionTreeRegressor\n",
        "\n",
        "model_tree = DecisionTreeRegressor(random_state=42)\n",
        "model_tree.fit(X_train, y_train)\n",
        "\n",
        "# Make predictions and evaluate the model\n",
        "y_pred = model_tree.predict(X_test)"
      ]
    },
    {
      "cell_type": "code",
      "execution_count": null,
      "id": "07295f71",
      "metadata": {
        "execution": {
          "iopub.execute_input": "2023-10-08T10:38:50.518292Z",
          "iopub.status.busy": "2023-10-08T10:38:50.517949Z",
          "iopub.status.idle": "2023-10-08T10:38:50.525090Z",
          "shell.execute_reply": "2023-10-08T10:38:50.524034Z"
        },
        "papermill": {
          "duration": 0.023068,
          "end_time": "2023-10-08T10:38:50.526985",
          "exception": false,
          "start_time": "2023-10-08T10:38:50.503917",
          "status": "completed"
        },
        "tags": [],
        "id": "07295f71",
        "outputId": "f0220c0c-330f-4396-86f5-fb70ada17697"
      },
      "outputs": [
        {
          "name": "stdout",
          "output_type": "stream",
          "text": [
            "Mean Squared Error: 1.5512000000000006\n",
            "R-squared: 0.9426471858373155\n"
          ]
        }
      ],
      "source": [
        "# Evaluate the model (you can use different evaluation metrics)\n",
        "from sklearn.metrics import mean_squared_error, r2_score\n",
        "mse = mean_squared_error(y_test, y_pred)\n",
        "r2 = r2_score(y_test, y_pred)\n",
        "print(f'Mean Squared Error: {mse}')\n",
        "print(f'R-squared: {r2}')"
      ]
    },
    {
      "cell_type": "markdown",
      "id": "d7da5fef",
      "metadata": {
        "papermill": {
          "duration": 0.012172,
          "end_time": "2023-10-08T10:38:50.551666",
          "exception": false,
          "start_time": "2023-10-08T10:38:50.539494",
          "status": "completed"
        },
        "tags": [],
        "id": "d7da5fef"
      },
      "source": [
        "**RandomForestRegressor**"
      ]
    },
    {
      "cell_type": "code",
      "execution_count": null,
      "id": "1972f269",
      "metadata": {
        "execution": {
          "iopub.execute_input": "2023-10-08T10:38:50.578080Z",
          "iopub.status.busy": "2023-10-08T10:38:50.577698Z",
          "iopub.status.idle": "2023-10-08T10:38:50.849862Z",
          "shell.execute_reply": "2023-10-08T10:38:50.848637Z"
        },
        "papermill": {
          "duration": 0.288377,
          "end_time": "2023-10-08T10:38:50.852373",
          "exception": false,
          "start_time": "2023-10-08T10:38:50.563996",
          "status": "completed"
        },
        "tags": [],
        "id": "1972f269"
      },
      "outputs": [],
      "source": [
        "from sklearn.ensemble import RandomForestRegressor\n",
        "\n",
        "# Initialize and train a random forest model\n",
        "model_forest = RandomForestRegressor(random_state=42)\n",
        "model_forest.fit(X_train, y_train)\n",
        "\n",
        "# Make predictions and evaluate the model\n",
        "y_pred = model_forest.predict(X_test)"
      ]
    },
    {
      "cell_type": "code",
      "execution_count": null,
      "id": "5386db1c",
      "metadata": {
        "execution": {
          "iopub.execute_input": "2023-10-08T10:38:50.879532Z",
          "iopub.status.busy": "2023-10-08T10:38:50.878734Z",
          "iopub.status.idle": "2023-10-08T10:38:50.886059Z",
          "shell.execute_reply": "2023-10-08T10:38:50.884936Z"
        },
        "papermill": {
          "duration": 0.023036,
          "end_time": "2023-10-08T10:38:50.888062",
          "exception": false,
          "start_time": "2023-10-08T10:38:50.865026",
          "status": "completed"
        },
        "tags": [],
        "id": "5386db1c",
        "outputId": "1cb38e09-6b86-461b-e1d4-0ce5750f1ea8"
      },
      "outputs": [
        {
          "name": "stdout",
          "output_type": "stream",
          "text": [
            "Mean Squared Error: 1.083213100000005\n",
            "R-squared: 0.9599501549620387\n"
          ]
        }
      ],
      "source": [
        "# Evaluate the model (you can use different evaluation metrics)\n",
        "from sklearn.metrics import mean_squared_error, r2_score\n",
        "mse = mean_squared_error(y_test, y_pred)\n",
        "r2 = r2_score(y_test, y_pred)\n",
        "print(f'Mean Squared Error: {mse}')\n",
        "print(f'R-squared: {r2}')"
      ]
    },
    {
      "cell_type": "markdown",
      "id": "c01ea934",
      "metadata": {
        "papermill": {
          "duration": 0.012285,
          "end_time": "2023-10-08T10:38:50.913118",
          "exception": false,
          "start_time": "2023-10-08T10:38:50.900833",
          "status": "completed"
        },
        "tags": [],
        "id": "c01ea934"
      },
      "source": [
        "**GradientBoostingRegressor**"
      ]
    },
    {
      "cell_type": "code",
      "execution_count": null,
      "id": "b5a22231",
      "metadata": {
        "execution": {
          "iopub.execute_input": "2023-10-08T10:38:50.940061Z",
          "iopub.status.busy": "2023-10-08T10:38:50.939444Z",
          "iopub.status.idle": "2023-10-08T10:38:51.011993Z",
          "shell.execute_reply": "2023-10-08T10:38:51.011001Z"
        },
        "papermill": {
          "duration": 0.088577,
          "end_time": "2023-10-08T10:38:51.014343",
          "exception": false,
          "start_time": "2023-10-08T10:38:50.925766",
          "status": "completed"
        },
        "tags": [],
        "id": "b5a22231"
      },
      "outputs": [],
      "source": [
        "from sklearn.ensemble import GradientBoostingRegressor\n",
        "\n",
        "# Initialize and train a gradient boosting model\n",
        "model_gb = GradientBoostingRegressor(random_state=42)\n",
        "model_gb.fit(X_train, y_train)\n",
        "\n",
        "# Make predictions and evaluate the model\n",
        "y_pred = model_gb.predict(X_test)"
      ]
    },
    {
      "cell_type": "code",
      "execution_count": null,
      "id": "785a4f0d",
      "metadata": {
        "execution": {
          "iopub.execute_input": "2023-10-08T10:38:51.041330Z",
          "iopub.status.busy": "2023-10-08T10:38:51.040992Z",
          "iopub.status.idle": "2023-10-08T10:38:51.047203Z",
          "shell.execute_reply": "2023-10-08T10:38:51.045971Z"
        },
        "papermill": {
          "duration": 0.022112,
          "end_time": "2023-10-08T10:38:51.049081",
          "exception": false,
          "start_time": "2023-10-08T10:38:51.026969",
          "status": "completed"
        },
        "tags": [],
        "id": "785a4f0d",
        "outputId": "bc1d207e-a325-4aac-d530-6f49d3c26896"
      },
      "outputs": [
        {
          "name": "stdout",
          "output_type": "stream",
          "text": [
            "Mean Squared Error: 0.7198166560426469\n",
            "R-squared: 0.9733860811596062\n"
          ]
        }
      ],
      "source": [
        "# Evaluate the model (you can use different evaluation metrics)\n",
        "from sklearn.metrics import mean_squared_error, r2_score\n",
        "mse = mean_squared_error(y_test, y_pred)\n",
        "r2 = r2_score(y_test, y_pred)\n",
        "print(f'Mean Squared Error: {mse}')\n",
        "print(f'R-squared: {r2}')"
      ]
    },
    {
      "cell_type": "markdown",
      "id": "a4a5bb16",
      "metadata": {
        "papermill": {
          "duration": 0.01232,
          "end_time": "2023-10-08T10:38:51.074076",
          "exception": false,
          "start_time": "2023-10-08T10:38:51.061756",
          "status": "completed"
        },
        "tags": [],
        "id": "a4a5bb16"
      },
      "source": [
        "**SVR**"
      ]
    },
    {
      "cell_type": "code",
      "execution_count": null,
      "id": "c5a4c8e6",
      "metadata": {
        "execution": {
          "iopub.execute_input": "2023-10-08T10:38:51.101315Z",
          "iopub.status.busy": "2023-10-08T10:38:51.100959Z",
          "iopub.status.idle": "2023-10-08T10:38:51.764202Z",
          "shell.execute_reply": "2023-10-08T10:38:51.763271Z"
        },
        "papermill": {
          "duration": 0.679781,
          "end_time": "2023-10-08T10:38:51.766463",
          "exception": false,
          "start_time": "2023-10-08T10:38:51.086682",
          "status": "completed"
        },
        "tags": [],
        "id": "c5a4c8e6"
      },
      "outputs": [],
      "source": [
        "from sklearn.svm import SVR\n",
        "\n",
        "# Initialize and train an SVM regression model\n",
        "model_svm = SVR(kernel='linear')  # You can choose different kernel functions like 'rbf' for non-linear relationships\n",
        "model_svm.fit(X_train, y_train)\n",
        "\n",
        "# Make predictions and evaluate the model\n",
        "y_pred = model_svm.predict(X_test)"
      ]
    },
    {
      "cell_type": "code",
      "execution_count": null,
      "id": "57523667",
      "metadata": {
        "execution": {
          "iopub.execute_input": "2023-10-08T10:38:51.793856Z",
          "iopub.status.busy": "2023-10-08T10:38:51.793461Z",
          "iopub.status.idle": "2023-10-08T10:38:51.800078Z",
          "shell.execute_reply": "2023-10-08T10:38:51.798925Z"
        },
        "papermill": {
          "duration": 0.022819,
          "end_time": "2023-10-08T10:38:51.802221",
          "exception": false,
          "start_time": "2023-10-08T10:38:51.779402",
          "status": "completed"
        },
        "tags": [],
        "id": "57523667",
        "outputId": "cbcdb6b0-76f8-4869-bd83-ddfbf6b8be52"
      },
      "outputs": [
        {
          "name": "stdout",
          "output_type": "stream",
          "text": [
            "Mean Squared Error: 3.147961592347747\n",
            "R-squared: 0.8836098142101674\n"
          ]
        }
      ],
      "source": [
        "# Evaluate the model (you can use different evaluation metrics)\n",
        "from sklearn.metrics import mean_squared_error, r2_score\n",
        "mse = mean_squared_error(y_test, y_pred)\n",
        "r2 = r2_score(y_test, y_pred)\n",
        "print(f'Mean Squared Error: {mse}')\n",
        "print(f'R-squared: {r2}')"
      ]
    },
    {
      "cell_type": "markdown",
      "id": "1dfb2d37",
      "metadata": {
        "papermill": {
          "duration": 0.012274,
          "end_time": "2023-10-08T10:38:51.827378",
          "exception": false,
          "start_time": "2023-10-08T10:38:51.815104",
          "status": "completed"
        },
        "tags": [],
        "id": "1dfb2d37"
      },
      "source": [
        "**Prediction**"
      ]
    },
    {
      "cell_type": "code",
      "execution_count": null,
      "id": "476a2826",
      "metadata": {
        "execution": {
          "iopub.execute_input": "2023-10-08T10:38:51.854212Z",
          "iopub.status.busy": "2023-10-08T10:38:51.853808Z",
          "iopub.status.idle": "2023-10-08T10:38:51.860419Z",
          "shell.execute_reply": "2023-10-08T10:38:51.859335Z"
        },
        "papermill": {
          "duration": 0.022391,
          "end_time": "2023-10-08T10:38:51.862227",
          "exception": false,
          "start_time": "2023-10-08T10:38:51.839836",
          "status": "completed"
        },
        "tags": [],
        "id": "476a2826"
      },
      "outputs": [],
      "source": [
        "import random\n",
        "\n",
        "random.seed(42)\n",
        "sample_data=df[['TV','Radio','Newspaper']].sample(10)"
      ]
    },
    {
      "cell_type": "code",
      "execution_count": null,
      "id": "50e2dc10",
      "metadata": {
        "execution": {
          "iopub.execute_input": "2023-10-08T10:38:51.889482Z",
          "iopub.status.busy": "2023-10-08T10:38:51.889091Z",
          "iopub.status.idle": "2023-10-08T10:38:51.901279Z",
          "shell.execute_reply": "2023-10-08T10:38:51.900033Z"
        },
        "papermill": {
          "duration": 0.028292,
          "end_time": "2023-10-08T10:38:51.903260",
          "exception": false,
          "start_time": "2023-10-08T10:38:51.874968",
          "status": "completed"
        },
        "tags": [],
        "id": "50e2dc10",
        "outputId": "deec566a-72aa-477e-99c6-f33d406a7be1"
      },
      "outputs": [
        {
          "data": {
            "text/html": [
              "<div>\n",
              "<style scoped>\n",
              "    .dataframe tbody tr th:only-of-type {\n",
              "        vertical-align: middle;\n",
              "    }\n",
              "\n",
              "    .dataframe tbody tr th {\n",
              "        vertical-align: top;\n",
              "    }\n",
              "\n",
              "    .dataframe thead th {\n",
              "        text-align: right;\n",
              "    }\n",
              "</style>\n",
              "<table border=\"1\" class=\"dataframe\">\n",
              "  <thead>\n",
              "    <tr style=\"text-align: right;\">\n",
              "      <th></th>\n",
              "      <th>TV</th>\n",
              "      <th>Radio</th>\n",
              "      <th>Newspaper</th>\n",
              "    </tr>\n",
              "  </thead>\n",
              "  <tbody>\n",
              "    <tr>\n",
              "      <th>75</th>\n",
              "      <td>16.9</td>\n",
              "      <td>43.7</td>\n",
              "      <td>89.4</td>\n",
              "    </tr>\n",
              "    <tr>\n",
              "      <th>46</th>\n",
              "      <td>89.7</td>\n",
              "      <td>9.9</td>\n",
              "      <td>35.7</td>\n",
              "    </tr>\n",
              "    <tr>\n",
              "      <th>2</th>\n",
              "      <td>17.2</td>\n",
              "      <td>45.9</td>\n",
              "      <td>69.3</td>\n",
              "    </tr>\n",
              "    <tr>\n",
              "      <th>65</th>\n",
              "      <td>69.0</td>\n",
              "      <td>9.3</td>\n",
              "      <td>0.9</td>\n",
              "    </tr>\n",
              "    <tr>\n",
              "      <th>25</th>\n",
              "      <td>262.9</td>\n",
              "      <td>3.5</td>\n",
              "      <td>19.5</td>\n",
              "    </tr>\n",
              "    <tr>\n",
              "      <th>50</th>\n",
              "      <td>199.8</td>\n",
              "      <td>3.1</td>\n",
              "      <td>34.6</td>\n",
              "    </tr>\n",
              "    <tr>\n",
              "      <th>125</th>\n",
              "      <td>87.2</td>\n",
              "      <td>11.8</td>\n",
              "      <td>25.9</td>\n",
              "    </tr>\n",
              "    <tr>\n",
              "      <th>100</th>\n",
              "      <td>222.4</td>\n",
              "      <td>4.3</td>\n",
              "      <td>49.8</td>\n",
              "    </tr>\n",
              "    <tr>\n",
              "      <th>15</th>\n",
              "      <td>195.4</td>\n",
              "      <td>47.7</td>\n",
              "      <td>52.9</td>\n",
              "    </tr>\n",
              "    <tr>\n",
              "      <th>102</th>\n",
              "      <td>280.2</td>\n",
              "      <td>10.1</td>\n",
              "      <td>21.4</td>\n",
              "    </tr>\n",
              "  </tbody>\n",
              "</table>\n",
              "</div>"
            ],
            "text/plain": [
              "        TV  Radio  Newspaper\n",
              "75    16.9   43.7       89.4\n",
              "46    89.7    9.9       35.7\n",
              "2     17.2   45.9       69.3\n",
              "65    69.0    9.3        0.9\n",
              "25   262.9    3.5       19.5\n",
              "50   199.8    3.1       34.6\n",
              "125   87.2   11.8       25.9\n",
              "100  222.4    4.3       49.8\n",
              "15   195.4   47.7       52.9\n",
              "102  280.2   10.1       21.4"
            ]
          },
          "execution_count": 26,
          "metadata": {},
          "output_type": "execute_result"
        }
      ],
      "source": [
        "sample_data"
      ]
    },
    {
      "cell_type": "code",
      "execution_count": null,
      "id": "d4723748",
      "metadata": {
        "execution": {
          "iopub.execute_input": "2023-10-08T10:38:51.930543Z",
          "iopub.status.busy": "2023-10-08T10:38:51.930141Z",
          "iopub.status.idle": "2023-10-08T10:38:51.936484Z",
          "shell.execute_reply": "2023-10-08T10:38:51.935165Z"
        },
        "papermill": {
          "duration": 0.022437,
          "end_time": "2023-10-08T10:38:51.938437",
          "exception": false,
          "start_time": "2023-10-08T10:38:51.916000",
          "status": "completed"
        },
        "tags": [],
        "id": "d4723748"
      },
      "outputs": [],
      "source": [
        "sample_data['Total_Advertising_Spending'] = sample_data['TV'] + sample_data['Radio'] + sample_data['Newspaper']"
      ]
    },
    {
      "cell_type": "code",
      "execution_count": null,
      "id": "f2e4d990",
      "metadata": {
        "execution": {
          "iopub.execute_input": "2023-10-08T10:38:51.967406Z",
          "iopub.status.busy": "2023-10-08T10:38:51.967026Z",
          "iopub.status.idle": "2023-10-08T10:38:51.979966Z",
          "shell.execute_reply": "2023-10-08T10:38:51.979076Z"
        },
        "papermill": {
          "duration": 0.028913,
          "end_time": "2023-10-08T10:38:51.981688",
          "exception": false,
          "start_time": "2023-10-08T10:38:51.952775",
          "status": "completed"
        },
        "tags": [],
        "id": "f2e4d990",
        "outputId": "ec3d9213-2479-4630-9cde-3af0783c6e3b"
      },
      "outputs": [
        {
          "data": {
            "text/html": [
              "<div>\n",
              "<style scoped>\n",
              "    .dataframe tbody tr th:only-of-type {\n",
              "        vertical-align: middle;\n",
              "    }\n",
              "\n",
              "    .dataframe tbody tr th {\n",
              "        vertical-align: top;\n",
              "    }\n",
              "\n",
              "    .dataframe thead th {\n",
              "        text-align: right;\n",
              "    }\n",
              "</style>\n",
              "<table border=\"1\" class=\"dataframe\">\n",
              "  <thead>\n",
              "    <tr style=\"text-align: right;\">\n",
              "      <th></th>\n",
              "      <th>TV</th>\n",
              "      <th>Radio</th>\n",
              "      <th>Newspaper</th>\n",
              "      <th>Total_Advertising_Spending</th>\n",
              "    </tr>\n",
              "  </thead>\n",
              "  <tbody>\n",
              "    <tr>\n",
              "      <th>75</th>\n",
              "      <td>16.9</td>\n",
              "      <td>43.7</td>\n",
              "      <td>89.4</td>\n",
              "      <td>150.0</td>\n",
              "    </tr>\n",
              "    <tr>\n",
              "      <th>46</th>\n",
              "      <td>89.7</td>\n",
              "      <td>9.9</td>\n",
              "      <td>35.7</td>\n",
              "      <td>135.3</td>\n",
              "    </tr>\n",
              "    <tr>\n",
              "      <th>2</th>\n",
              "      <td>17.2</td>\n",
              "      <td>45.9</td>\n",
              "      <td>69.3</td>\n",
              "      <td>132.4</td>\n",
              "    </tr>\n",
              "    <tr>\n",
              "      <th>65</th>\n",
              "      <td>69.0</td>\n",
              "      <td>9.3</td>\n",
              "      <td>0.9</td>\n",
              "      <td>79.2</td>\n",
              "    </tr>\n",
              "    <tr>\n",
              "      <th>25</th>\n",
              "      <td>262.9</td>\n",
              "      <td>3.5</td>\n",
              "      <td>19.5</td>\n",
              "      <td>285.9</td>\n",
              "    </tr>\n",
              "    <tr>\n",
              "      <th>50</th>\n",
              "      <td>199.8</td>\n",
              "      <td>3.1</td>\n",
              "      <td>34.6</td>\n",
              "      <td>237.5</td>\n",
              "    </tr>\n",
              "    <tr>\n",
              "      <th>125</th>\n",
              "      <td>87.2</td>\n",
              "      <td>11.8</td>\n",
              "      <td>25.9</td>\n",
              "      <td>124.9</td>\n",
              "    </tr>\n",
              "    <tr>\n",
              "      <th>100</th>\n",
              "      <td>222.4</td>\n",
              "      <td>4.3</td>\n",
              "      <td>49.8</td>\n",
              "      <td>276.5</td>\n",
              "    </tr>\n",
              "    <tr>\n",
              "      <th>15</th>\n",
              "      <td>195.4</td>\n",
              "      <td>47.7</td>\n",
              "      <td>52.9</td>\n",
              "      <td>296.0</td>\n",
              "    </tr>\n",
              "    <tr>\n",
              "      <th>102</th>\n",
              "      <td>280.2</td>\n",
              "      <td>10.1</td>\n",
              "      <td>21.4</td>\n",
              "      <td>311.7</td>\n",
              "    </tr>\n",
              "  </tbody>\n",
              "</table>\n",
              "</div>"
            ],
            "text/plain": [
              "        TV  Radio  Newspaper  Total_Advertising_Spending\n",
              "75    16.9   43.7       89.4                       150.0\n",
              "46    89.7    9.9       35.7                       135.3\n",
              "2     17.2   45.9       69.3                       132.4\n",
              "65    69.0    9.3        0.9                        79.2\n",
              "25   262.9    3.5       19.5                       285.9\n",
              "50   199.8    3.1       34.6                       237.5\n",
              "125   87.2   11.8       25.9                       124.9\n",
              "100  222.4    4.3       49.8                       276.5\n",
              "15   195.4   47.7       52.9                       296.0\n",
              "102  280.2   10.1       21.4                       311.7"
            ]
          },
          "execution_count": 28,
          "metadata": {},
          "output_type": "execute_result"
        }
      ],
      "source": [
        "sample_data"
      ]
    },
    {
      "cell_type": "code",
      "execution_count": null,
      "id": "cf9081e4",
      "metadata": {
        "execution": {
          "iopub.execute_input": "2023-10-08T10:38:52.009130Z",
          "iopub.status.busy": "2023-10-08T10:38:52.008676Z",
          "iopub.status.idle": "2023-10-08T10:38:52.025097Z",
          "shell.execute_reply": "2023-10-08T10:38:52.023869Z"
        },
        "papermill": {
          "duration": 0.032351,
          "end_time": "2023-10-08T10:38:52.027130",
          "exception": false,
          "start_time": "2023-10-08T10:38:51.994779",
          "status": "completed"
        },
        "tags": [],
        "id": "cf9081e4"
      },
      "outputs": [],
      "source": [
        "# Make predictions using the five models\n",
        "linear_predictions = model_linear.predict(sample_data)\n",
        "tree_predictions = model_tree.predict(sample_data)\n",
        "forest_predictions = model_forest.predict(sample_data)\n",
        "gb_predictions = model_gb.predict(sample_data)\n",
        "svm_predictions = model_svm.predict(sample_data)"
      ]
    },
    {
      "cell_type": "code",
      "execution_count": null,
      "id": "08d3425c",
      "metadata": {
        "execution": {
          "iopub.execute_input": "2023-10-08T10:38:52.054679Z",
          "iopub.status.busy": "2023-10-08T10:38:52.054293Z",
          "iopub.status.idle": "2023-10-08T10:38:52.061691Z",
          "shell.execute_reply": "2023-10-08T10:38:52.060634Z"
        },
        "papermill": {
          "duration": 0.023264,
          "end_time": "2023-10-08T10:38:52.063542",
          "exception": false,
          "start_time": "2023-10-08T10:38:52.040278",
          "status": "completed"
        },
        "tags": [],
        "id": "08d3425c"
      },
      "outputs": [],
      "source": [
        "# Create a table with original value (Sales from sample data) and predictions\n",
        "sample_data['Original Value'] = df.loc[sample_data.index, 'Sales']\n",
        "\n",
        "predictions_table = pd.DataFrame({\n",
        "    'Original Value': sample_data['Original Value'],\n",
        "    'Linear Regression Prediction': linear_predictions,\n",
        "    'Decision Tree Prediction': tree_predictions,\n",
        "    'Random Forest Prediction': forest_predictions,\n",
        "    'Gradient Boosting Prediction': gb_predictions,\n",
        "    'SVM Prediction': svm_predictions\n",
        "})"
      ]
    },
    {
      "cell_type": "code",
      "execution_count": null,
      "id": "642f1d82",
      "metadata": {
        "execution": {
          "iopub.execute_input": "2023-10-08T10:38:52.091154Z",
          "iopub.status.busy": "2023-10-08T10:38:52.090410Z",
          "iopub.status.idle": "2023-10-08T10:38:52.104398Z",
          "shell.execute_reply": "2023-10-08T10:38:52.103668Z"
        },
        "papermill": {
          "duration": 0.02962,
          "end_time": "2023-10-08T10:38:52.106211",
          "exception": false,
          "start_time": "2023-10-08T10:38:52.076591",
          "status": "completed"
        },
        "tags": [],
        "id": "642f1d82",
        "outputId": "5572951e-d09c-4b08-de03-cee853f0e9f7"
      },
      "outputs": [
        {
          "data": {
            "text/html": [
              "<div>\n",
              "<style scoped>\n",
              "    .dataframe tbody tr th:only-of-type {\n",
              "        vertical-align: middle;\n",
              "    }\n",
              "\n",
              "    .dataframe tbody tr th {\n",
              "        vertical-align: top;\n",
              "    }\n",
              "\n",
              "    .dataframe thead th {\n",
              "        text-align: right;\n",
              "    }\n",
              "</style>\n",
              "<table border=\"1\" class=\"dataframe\">\n",
              "  <thead>\n",
              "    <tr style=\"text-align: right;\">\n",
              "      <th></th>\n",
              "      <th>Original Value</th>\n",
              "      <th>Linear Regression Prediction</th>\n",
              "      <th>Decision Tree Prediction</th>\n",
              "      <th>Random Forest Prediction</th>\n",
              "      <th>Gradient Boosting Prediction</th>\n",
              "      <th>SVM Prediction</th>\n",
              "    </tr>\n",
              "  </thead>\n",
              "  <tbody>\n",
              "    <tr>\n",
              "      <th>75</th>\n",
              "      <td>8.7</td>\n",
              "      <td>12.142369</td>\n",
              "      <td>9.3</td>\n",
              "      <td>9.202</td>\n",
              "      <td>9.150895</td>\n",
              "      <td>12.981570</td>\n",
              "    </tr>\n",
              "    <tr>\n",
              "      <th>46</th>\n",
              "      <td>10.6</td>\n",
              "      <td>8.840794</td>\n",
              "      <td>10.6</td>\n",
              "      <td>10.755</td>\n",
              "      <td>10.463548</td>\n",
              "      <td>9.055109</td>\n",
              "    </tr>\n",
              "    <tr>\n",
              "      <th>2</th>\n",
              "      <td>9.3</td>\n",
              "      <td>12.525584</td>\n",
              "      <td>9.3</td>\n",
              "      <td>8.687</td>\n",
              "      <td>9.012232</td>\n",
              "      <td>13.437896</td>\n",
              "    </tr>\n",
              "    <tr>\n",
              "      <th>65</th>\n",
              "      <td>9.3</td>\n",
              "      <td>7.696076</td>\n",
              "      <td>9.7</td>\n",
              "      <td>9.951</td>\n",
              "      <td>9.604432</td>\n",
              "      <td>8.010052</td>\n",
              "    </tr>\n",
              "    <tr>\n",
              "      <th>25</th>\n",
              "      <td>12.0</td>\n",
              "      <td>15.442962</td>\n",
              "      <td>12.0</td>\n",
              "      <td>12.067</td>\n",
              "      <td>12.121443</td>\n",
              "      <td>15.199691</td>\n",
              "    </tr>\n",
              "    <tr>\n",
              "      <th>50</th>\n",
              "      <td>11.4</td>\n",
              "      <td>12.538300</td>\n",
              "      <td>11.4</td>\n",
              "      <td>11.613</td>\n",
              "      <td>11.550951</td>\n",
              "      <td>12.399201</td>\n",
              "    </tr>\n",
              "    <tr>\n",
              "      <th>125</th>\n",
              "      <td>10.6</td>\n",
              "      <td>9.065810</td>\n",
              "      <td>10.6</td>\n",
              "      <td>10.289</td>\n",
              "      <td>9.952817</td>\n",
              "      <td>9.335391</td>\n",
              "    </tr>\n",
              "    <tr>\n",
              "      <th>100</th>\n",
              "      <td>11.7</td>\n",
              "      <td>13.833881</td>\n",
              "      <td>11.7</td>\n",
              "      <td>11.937</td>\n",
              "      <td>11.841906</td>\n",
              "      <td>13.637099</td>\n",
              "    </tr>\n",
              "    <tr>\n",
              "      <th>15</th>\n",
              "      <td>22.4</td>\n",
              "      <td>20.924350</td>\n",
              "      <td>22.6</td>\n",
              "      <td>21.818</td>\n",
              "      <td>22.061930</td>\n",
              "      <td>21.505260</td>\n",
              "    </tr>\n",
              "    <tr>\n",
              "      <th>102</th>\n",
              "      <td>14.8</td>\n",
              "      <td>17.497455</td>\n",
              "      <td>14.8</td>\n",
              "      <td>14.505</td>\n",
              "      <td>14.872028</td>\n",
              "      <td>17.322767</td>\n",
              "    </tr>\n",
              "  </tbody>\n",
              "</table>\n",
              "</div>"
            ],
            "text/plain": [
              "     Original Value  Linear Regression Prediction  Decision Tree Prediction  \\\n",
              "75              8.7                     12.142369                       9.3   \n",
              "46             10.6                      8.840794                      10.6   \n",
              "2               9.3                     12.525584                       9.3   \n",
              "65              9.3                      7.696076                       9.7   \n",
              "25             12.0                     15.442962                      12.0   \n",
              "50             11.4                     12.538300                      11.4   \n",
              "125            10.6                      9.065810                      10.6   \n",
              "100            11.7                     13.833881                      11.7   \n",
              "15             22.4                     20.924350                      22.6   \n",
              "102            14.8                     17.497455                      14.8   \n",
              "\n",
              "     Random Forest Prediction  Gradient Boosting Prediction  SVM Prediction  \n",
              "75                      9.202                      9.150895       12.981570  \n",
              "46                     10.755                     10.463548        9.055109  \n",
              "2                       8.687                      9.012232       13.437896  \n",
              "65                      9.951                      9.604432        8.010052  \n",
              "25                     12.067                     12.121443       15.199691  \n",
              "50                     11.613                     11.550951       12.399201  \n",
              "125                    10.289                      9.952817        9.335391  \n",
              "100                    11.937                     11.841906       13.637099  \n",
              "15                     21.818                     22.061930       21.505260  \n",
              "102                    14.505                     14.872028       17.322767  "
            ]
          },
          "execution_count": 31,
          "metadata": {},
          "output_type": "execute_result"
        }
      ],
      "source": [
        "predictions_table"
      ]
    },
    {
      "cell_type": "code",
      "execution_count": null,
      "id": "5e407b70",
      "metadata": {
        "papermill": {
          "duration": 0.012686,
          "end_time": "2023-10-08T10:38:52.132593",
          "exception": false,
          "start_time": "2023-10-08T10:38:52.119907",
          "status": "completed"
        },
        "tags": [],
        "id": "5e407b70"
      },
      "outputs": [],
      "source": []
    }
  ],
  "metadata": {
    "kernelspec": {
      "display_name": "Python 3",
      "language": "python",
      "name": "python3"
    },
    "language_info": {
      "codemirror_mode": {
        "name": "ipython",
        "version": 3
      },
      "file_extension": ".py",
      "mimetype": "text/x-python",
      "name": "python",
      "nbconvert_exporter": "python",
      "pygments_lexer": "ipython3",
      "version": "3.10.12"
    },
    "papermill": {
      "default_parameters": {},
      "duration": 13.481509,
      "end_time": "2023-10-08T10:38:52.866161",
      "environment_variables": {},
      "exception": null,
      "input_path": "__notebook__.ipynb",
      "output_path": "__notebook__.ipynb",
      "parameters": {},
      "start_time": "2023-10-08T10:38:39.384652",
      "version": "2.4.0"
    },
    "colab": {
      "provenance": [],
      "include_colab_link": true
    }
  },
  "nbformat": 4,
  "nbformat_minor": 5
}